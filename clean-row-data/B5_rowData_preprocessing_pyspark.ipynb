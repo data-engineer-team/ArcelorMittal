{
 "cells": [
  {
   "cell_type": "code",
   "execution_count": null,
   "metadata": {
    "collapsed": true
   },
   "outputs": [],
   "source": [
    "# install pyspark (should have java installed first)\n",
    "%pip install pyspark"
   ]
  },
  {
   "cell_type": "code",
   "execution_count": 3,
   "metadata": {
    "collapsed": false,
    "pycharm": {
     "name": "#%%\n"
    }
   },
   "outputs": [],
   "source": [
    "import pyspark\n",
    "import pandas as pd\n",
    "from pyspark.sql import  SparkSession\n",
    "\n",
    "from pyspark.sql.types import IntegerType, FloatType\n",
    "from pyspark.sql.functions import col\n",
    "\n",
    "from pyspark.sql.functions import lit"
   ]
  },
  {
   "cell_type": "code",
   "execution_count": 5,
   "metadata": {
    "collapsed": false,
    "pycharm": {
     "name": "#%%\n"
    }
   },
   "outputs": [],
   "source": [
    "spark = SparkSession.builder.appName('B5').getOrCreate()"
   ]
  },
  {
   "cell_type": "code",
   "execution_count": 7,
   "metadata": {
    "collapsed": false,
    "pycharm": {
     "name": "#%%\n"
    }
   },
   "outputs": [],
   "source": [
    "# raed csv\n",
    "# to have header as files's header name\n",
    "df = spark.read.csv('dumpRawDataB5.csv', header=True, inferSchema=True)"
   ]
  },
  {
   "cell_type": "code",
   "execution_count": 9,
   "metadata": {
    "collapsed": false,
    "pycharm": {
     "name": "#%%\n"
    }
   },
   "outputs": [
    {
     "name": "stdout",
     "output_type": "stream",
     "text": [
      "root\n",
      " |-- _FileId: integer (nullable = true)\n",
      " |-- _SegmentNr: integer (nullable = true)\n",
      " |-- Snelheid_HA: double (nullable = true)\n",
      " |-- B5_Abs_Plaus_Time: double (nullable = true)\n",
      " |-- B5_Time_Based: double (nullable = true)\n",
      "\n"
     ]
    }
   ],
   "source": [
    "df.printSchema()"
   ]
  },
  {
   "cell_type": "code",
   "execution_count": 10,
   "metadata": {
    "collapsed": false,
    "pycharm": {
     "name": "#%%\n"
    }
   },
   "outputs": [
    {
     "name": "stdout",
     "output_type": "stream",
     "text": [
      "+----------+----------+-----------+-----------------+-------------+\n",
      "|   _FileId|_SegmentNr|Snelheid_HA|B5_Abs_Plaus_Time|B5_Time_Based|\n",
      "+----------+----------+-----------+-----------------+-------------+\n",
      "|1651763725|         0|    7301.34|              0.0|          0.0|\n",
      "|1651763725|         1|    7306.74|              0.0|          0.0|\n",
      "|1651763725|         2|     7311.6|              0.0|          0.0|\n",
      "|1651763725|         3|    7311.87|              0.0|          0.0|\n",
      "|1651763725|         4|    7313.49|              0.0|          0.0|\n",
      "|1651763725|         5|     7306.2|              0.0|          0.0|\n",
      "|1651763725|         6|     7306.2|              0.0|          0.0|\n",
      "|1651763725|         7|    7307.28|              0.0|          0.0|\n",
      "|1651763725|         8|     7317.0|              0.0|          0.0|\n",
      "|1651763725|         9|     7317.0|              0.0|          0.0|\n",
      "|1651763725|        10|    7317.27|              0.0|          0.0|\n",
      "|1651763725|        11|     7319.7|              0.0|          0.0|\n",
      "|1651763725|        12|    7318.35|              0.0|          0.0|\n",
      "|1651763725|        13|    7305.93|              0.0|          0.0|\n",
      "|1651763725|        14|    7303.77|              0.0|          0.0|\n",
      "|1651763725|        15|    7307.82|              0.0|          0.0|\n",
      "|1651763725|        16|     7322.4|              0.0|          0.0|\n",
      "|1651763725|        17|    7322.94|              0.0|          0.0|\n",
      "|1651763725|        18|    7327.53|              0.0|          0.0|\n",
      "|1651763725|        19|    7325.37|              0.0|          0.0|\n",
      "+----------+----------+-----------+-----------------+-------------+\n",
      "only showing top 20 rows\n",
      "\n"
     ]
    }
   ],
   "source": [
    "# replace nan value with 0 for column 'B5_Time_Based', 'B5_Abs_Plaus_Time'\n",
    "df1 = df.fillna(0, subset=['B5_Time_Based', 'B5_Abs_Plaus_Time'])\n",
    "df1.show()"
   ]
  },
  {
   "cell_type": "code",
   "execution_count": 11,
   "metadata": {
    "collapsed": false,
    "pycharm": {
     "name": "#%%\n"
    }
   },
   "outputs": [
    {
     "name": "stdout",
     "output_type": "stream",
     "text": [
      "root\n",
      " |-- _FileId: integer (nullable = true)\n",
      " |-- _SegmentNr: integer (nullable = true)\n",
      " |-- Snelheid_HA: double (nullable = true)\n",
      " |-- B5_Abs_Plaus_Time: double (nullable = false)\n",
      " |-- B5_Time_Based: double (nullable = false)\n",
      "\n"
     ]
    }
   ],
   "source": [
    "#show the shcema and data type\n",
    "df1.printSchema()"
   ]
  },
  {
   "cell_type": "code",
   "execution_count": 12,
   "metadata": {
    "collapsed": false,
    "pycharm": {
     "name": "#%%\n"
    }
   },
   "outputs": [],
   "source": [
    "# convert datatyoe of the columns\n",
    "df1 = df1.withColumn('Snelheid_HA', df1['Snelheid_HA'].cast('float'))\n",
    "\n",
    "df1 = df1 \\\n",
    "  .withColumn(\"B5_Abs_Plaus_Time\" ,\n",
    "              df1[\"B5_Abs_Plaus_Time\"]\n",
    "              .cast(FloatType()))   \\\n",
    "  .withColumn(\"B5_Time_Based\",\n",
    "              df1[\"B5_Time_Based\"]\n",
    "              .cast(FloatType()))\n",
    "\n"
   ]
  },
  {
   "cell_type": "code",
   "execution_count": 15,
   "metadata": {
    "collapsed": false,
    "pycharm": {
     "name": "#%%\n"
    }
   },
   "outputs": [
    {
     "name": "stdout",
     "output_type": "stream",
     "text": [
      "+----------+----------+-----------+-----------------+-------------+----------------+\n",
      "|   _FileId|_SegmentNr|Snelheid_HA|B5_Abs_Plaus_Time|B5_Time_Based|lengthCoordinate|\n",
      "+----------+----------+-----------+-----------------+-------------+----------------+\n",
      "|1651763725|         0|    7301.34|             null|         null|               0|\n",
      "|1651763725|         1|    7306.74|             null|         null|               0|\n",
      "|1651763725|         2|     7311.6|             null|         null|               0|\n",
      "|1651763725|         3|    7311.87|             null|         null|               0|\n",
      "|1651763725|         4|    7313.49|             null|         null|               0|\n",
      "|1651763725|         5|     7306.2|             null|         null|               0|\n",
      "|1651763725|         6|     7306.2|             null|         null|               0|\n",
      "|1651763725|         7|    7307.28|             null|         null|               0|\n",
      "|1651763725|         8|     7317.0|             null|         null|               0|\n",
      "|1651763725|         9|     7317.0|             null|         null|               0|\n",
      "|1651763725|        10|    7317.27|             null|         null|               0|\n",
      "|1651763725|        11|     7319.7|             null|         null|               0|\n",
      "|1651763725|        12|    7318.35|             null|         null|               0|\n",
      "|1651763725|        13|    7305.93|             null|         null|               0|\n",
      "|1651763725|        14|    7303.77|             null|         null|               0|\n",
      "|1651763725|        15|    7307.82|             null|         null|               0|\n",
      "|1651763725|        16|     7322.4|             null|         null|               0|\n",
      "|1651763725|        17|    7322.94|             null|         null|               0|\n",
      "|1651763725|        18|    7327.53|             null|         null|               0|\n",
      "|1651763725|        19|    7325.37|             null|         null|               0|\n",
      "+----------+----------+-----------+-----------------+-------------+----------------+\n",
      "only showing top 20 rows\n",
      "\n"
     ]
    }
   ],
   "source": [
    "# replace column null with 0 if it is null\n",
    "df1 = df.withColumn('lengthCoordinate', lit(0))\n",
    "df2 = df1.na.fill({'B5_Abs_Plaus_Time':'0', 'B5_Time_Based':'0'})\n",
    "\n",
    "df2 = df2 \\\n",
    "  .withColumn(\"lengthCoordinate\" ,\n",
    "              df2[\"lengthCoordinate\"]\n",
    "              .cast(FloatType()))\n",
    "df2.show()"
   ]
  },
  {
   "cell_type": "code",
   "execution_count": 18,
   "metadata": {
    "collapsed": false,
    "pycharm": {
     "name": "#%%\n"
    }
   },
   "outputs": [],
   "source": [
    "# calculate B5\n",
    "df2 = df2.withColumn('B5', col('B5_Time_Based')*0.1)"
   ]
  },
  {
   "cell_type": "code",
   "execution_count": 21,
   "metadata": {
    "collapsed": false,
    "pycharm": {
     "name": "#%%\n"
    }
   },
   "outputs": [
    {
     "name": "stdout",
     "output_type": "stream",
     "text": [
      "+----------+----------+-----------+-----------------+-------------+----------------+---+\n",
      "|   _FileId|_SegmentNr|Snelheid_HA|B5_Abs_Plaus_Time|B5_Time_Based|lengthCoordinate| B5|\n",
      "+----------+----------+-----------+-----------------+-------------+----------------+---+\n",
      "|1651763725|         0|    7301.34|              0.0|          0.0|             0.0|0.0|\n",
      "|1651763725|         1|    7306.74|              0.0|          0.0|             0.0|0.0|\n",
      "|1651763725|         2|     7311.6|              0.0|          0.0|             0.0|0.0|\n",
      "|1651763725|         3|    7311.87|              0.0|          0.0|             0.0|0.0|\n",
      "|1651763725|         4|    7313.49|              0.0|          0.0|             0.0|0.0|\n",
      "|1651763725|         5|     7306.2|              0.0|          0.0|             0.0|0.0|\n",
      "|1651763725|         6|     7306.2|              0.0|          0.0|             0.0|0.0|\n",
      "|1651763725|         7|    7307.28|              0.0|          0.0|             0.0|0.0|\n",
      "|1651763725|         8|     7317.0|              0.0|          0.0|             0.0|0.0|\n",
      "|1651763725|         9|     7317.0|              0.0|          0.0|             0.0|0.0|\n",
      "|1651763725|        10|    7317.27|              0.0|          0.0|             0.0|0.0|\n",
      "|1651763725|        11|     7319.7|              0.0|          0.0|             0.0|0.0|\n",
      "|1651763725|        12|    7318.35|              0.0|          0.0|             0.0|0.0|\n",
      "|1651763725|        13|    7305.93|              0.0|          0.0|             0.0|0.0|\n",
      "|1651763725|        14|    7303.77|              0.0|          0.0|             0.0|0.0|\n",
      "|1651763725|        15|    7307.82|              0.0|          0.0|             0.0|0.0|\n",
      "|1651763725|        16|     7322.4|              0.0|          0.0|             0.0|0.0|\n",
      "|1651763725|        17|    7322.94|              0.0|          0.0|             0.0|0.0|\n",
      "|1651763725|        18|    7327.53|              0.0|          0.0|             0.0|0.0|\n",
      "|1651763725|        19|    7325.37|              0.0|          0.0|             0.0|0.0|\n",
      "+----------+----------+-----------+-----------------+-------------+----------------+---+\n",
      "only showing top 20 rows\n",
      "\n"
     ]
    }
   ],
   "source": [
    "df2.show()"
   ]
  },
  {
   "cell_type": "code",
   "execution_count": 22,
   "metadata": {
    "collapsed": false,
    "pycharm": {
     "name": "#%%\n"
    }
   },
   "outputs": [],
   "source": [
    "df2 = df2 \\\n",
    "  .withColumn(\"B5_Abs_Plaus_Time\" ,\n",
    "              df2[\"B5_Abs_Plaus_Time\"]\n",
    "              .cast(FloatType()))   \\\n",
    "  .withColumn(\"B5_Time_Based\",\n",
    "              df2[\"B5_Time_Based\"]\n",
    "              .cast(FloatType()))\\\n",
    "    .withColumn(\"B5\",\n",
    "                df2['B5']\n",
    "                .cast(FloatType()))"
   ]
  },
  {
   "cell_type": "code",
   "execution_count": 23,
   "metadata": {
    "collapsed": false,
    "pycharm": {
     "name": "#%%\n"
    }
   },
   "outputs": [
    {
     "data": {
      "text/plain": [
       "[('_FileId', 'int'),\n",
       " ('_SegmentNr', 'int'),\n",
       " ('Snelheid_HA', 'double'),\n",
       " ('B5_Abs_Plaus_Time', 'float'),\n",
       " ('B5_Time_Based', 'float'),\n",
       " ('lengthCoordinate', 'float'),\n",
       " ('B5', 'float')]"
      ]
     },
     "execution_count": 23,
     "metadata": {},
     "output_type": "execute_result"
    }
   ],
   "source": [
    "df2.dtypes"
   ]
  },
  {
   "cell_type": "code",
   "execution_count": null,
   "metadata": {},
   "outputs": [],
   "source": [
    "from pyspark.sql.functions import udf\n",
    "from pyspark.sql.functions import col\n",
    "\n",
    "# use UDF function to calculate lengthCoordinate\n",
    "def lengthCoordinate(x, y):\n",
    "    df2_length = df2.count()\n",
    "    for i in range (df2_length):\n",
    "        x[i] = x[i-1] + y[i-1] *0.001* 0.04\n",
    "    return x\n",
    "\n",
    "lengthCoordinate1 = udf(lengthCoordinate, FloatType())   \n",
    "df2 = df2.withColumn('lengthCoordinate', lengthCoordinate1(df2.select(col('lengthCoordinate')), df2.select(col('Snelheid_HA'))))\n",
    "df2.show()"
   ]
  },
  {
   "cell_type": "code",
   "execution_count": 28,
   "metadata": {},
   "outputs": [
    {
     "name": "stdout",
     "output_type": "stream",
     "text": [
      "+----------+----------+-----------+-----------------+-------------+----------------+---+\n",
      "|   _FileId|_SegmentNr|Snelheid_HA|B5_Abs_Plaus_Time|B5_Time_Based|lengthCoordinate| B5|\n",
      "+----------+----------+-----------+-----------------+-------------+----------------+---+\n",
      "|1651763725|         0|    7301.34|              0.0|          0.0|        14602.68|0.0|\n",
      "|1651763725|         1|    7306.74|              0.0|          0.0|        14613.48|0.0|\n",
      "|1651763725|         2|     7311.6|              0.0|          0.0|         14623.2|0.0|\n",
      "|1651763725|         3|    7311.87|              0.0|          0.0|        14623.74|0.0|\n",
      "|1651763725|         4|    7313.49|              0.0|          0.0|        14626.98|0.0|\n",
      "|1651763725|         5|     7306.2|              0.0|          0.0|         14612.4|0.0|\n",
      "|1651763725|         6|     7306.2|              0.0|          0.0|         14612.4|0.0|\n",
      "|1651763725|         7|    7307.28|              0.0|          0.0|        14614.56|0.0|\n",
      "|1651763725|         8|     7317.0|              0.0|          0.0|         14634.0|0.0|\n",
      "|1651763725|         9|     7317.0|              0.0|          0.0|         14634.0|0.0|\n",
      "|1651763725|        10|    7317.27|              0.0|          0.0|        14634.54|0.0|\n",
      "|1651763725|        11|     7319.7|              0.0|          0.0|         14639.4|0.0|\n",
      "|1651763725|        12|    7318.35|              0.0|          0.0|         14636.7|0.0|\n",
      "|1651763725|        13|    7305.93|              0.0|          0.0|        14611.86|0.0|\n",
      "|1651763725|        14|    7303.77|              0.0|          0.0|        14607.54|0.0|\n",
      "|1651763725|        15|    7307.82|              0.0|          0.0|        14615.64|0.0|\n",
      "|1651763725|        16|     7322.4|              0.0|          0.0|         14644.8|0.0|\n",
      "|1651763725|        17|    7322.94|              0.0|          0.0|        14645.88|0.0|\n",
      "|1651763725|        18|    7327.53|              0.0|          0.0|        14655.06|0.0|\n",
      "|1651763725|        19|    7325.37|              0.0|          0.0|        14650.74|0.0|\n",
      "+----------+----------+-----------+-----------------+-------------+----------------+---+\n",
      "only showing top 20 rows\n",
      "\n"
     ]
    }
   ],
   "source": [
    "# test the UDF function\n",
    "from pyspark.sql.functions import udf\n",
    "from pyspark.sql.functions import col\n",
    "\n",
    "def lengthCoordinate(x):\n",
    "    \n",
    "    return x * 2\n",
    "\n",
    "lengthCoordinate1 = udf(lengthCoordinate, FloatType())   \n",
    "df2 = df2.withColumn('lengthCoordinate', lengthCoordinate1('Snelheid_HA'))\n",
    "df2.show()"
   ]
  },
  {
   "cell_type": "code",
   "execution_count": 57,
   "metadata": {
    "collapsed": false,
    "pycharm": {
     "name": "#%%\n"
    }
   },
   "outputs": [
    {
     "ename": "TypeError",
     "evalue": "'Column' object does not support item assignment",
     "output_type": "error",
     "traceback": [
      "\u001b[1;31m---------------------------------------------------------------------------\u001b[0m",
      "\u001b[1;31mTypeError\u001b[0m                                 Traceback (most recent call last)",
      "Cell \u001b[1;32mIn [57], line 9\u001b[0m\n\u001b[0;32m      6\u001b[0m         x[i] \u001b[38;5;241m=\u001b[39m x[i\u001b[38;5;241m-\u001b[39m\u001b[38;5;241m1\u001b[39m] \u001b[38;5;241m+\u001b[39m y[i\u001b[38;5;241m-\u001b[39m\u001b[38;5;241m1\u001b[39m] \u001b[38;5;241m*\u001b[39m\u001b[38;5;241m0.001\u001b[39m\u001b[38;5;241m*\u001b[39m \u001b[38;5;241m0.04\u001b[39m\n\u001b[0;32m      7\u001b[0m     \u001b[38;5;28;01mreturn\u001b[39;00m x\n\u001b[1;32m----> 9\u001b[0m length_coor \u001b[38;5;241m=\u001b[39m df2\u001b[38;5;241m.\u001b[39mselect(\u001b[38;5;124m'\u001b[39m\u001b[38;5;124m*\u001b[39m\u001b[38;5;124m'\u001b[39m, \u001b[43mlengthCoordinate\u001b[49m\u001b[43m(\u001b[49m\u001b[43mcol\u001b[49m\u001b[43m(\u001b[49m\u001b[38;5;124;43m'\u001b[39;49m\u001b[38;5;124;43mlengthCoordinate\u001b[39;49m\u001b[38;5;124;43m'\u001b[39;49m\u001b[43m)\u001b[49m\u001b[43m,\u001b[49m\u001b[43m \u001b[49m\u001b[43mcol\u001b[49m\u001b[43m(\u001b[49m\u001b[38;5;124;43m'\u001b[39;49m\u001b[38;5;124;43mSnelheid_HA\u001b[39;49m\u001b[38;5;124;43m'\u001b[39;49m\u001b[43m)\u001b[49m\u001b[43m)\u001b[49m)\n\u001b[0;32m     11\u001b[0m length_coor\u001b[38;5;241m.\u001b[39mshow()\n",
      "Cell \u001b[1;32mIn [57], line 6\u001b[0m, in \u001b[0;36mlengthCoordinate\u001b[1;34m(x, y)\u001b[0m\n\u001b[0;32m      4\u001b[0m df2_length \u001b[38;5;241m=\u001b[39m df2\u001b[38;5;241m.\u001b[39mcount()\n\u001b[0;32m      5\u001b[0m \u001b[38;5;28;01mfor\u001b[39;00m i \u001b[38;5;129;01min\u001b[39;00m \u001b[38;5;28mrange\u001b[39m (df2_length):\n\u001b[1;32m----> 6\u001b[0m     \u001b[43mx\u001b[49m\u001b[43m[\u001b[49m\u001b[43mi\u001b[49m\u001b[43m]\u001b[49m \u001b[38;5;241m=\u001b[39m x[i\u001b[38;5;241m-\u001b[39m\u001b[38;5;241m1\u001b[39m] \u001b[38;5;241m+\u001b[39m y[i\u001b[38;5;241m-\u001b[39m\u001b[38;5;241m1\u001b[39m] \u001b[38;5;241m*\u001b[39m\u001b[38;5;241m0.001\u001b[39m\u001b[38;5;241m*\u001b[39m \u001b[38;5;241m0.04\u001b[39m\n\u001b[0;32m      7\u001b[0m \u001b[38;5;28;01mreturn\u001b[39;00m x\n",
      "\u001b[1;31mTypeError\u001b[0m: 'Column' object does not support item assignment"
     ]
    }
   ],
   "source": [
    "# try out UDF function\n",
    "from pyspark.sql.functions import udf\n",
    "from pyspark.sql.functions import col\n",
    "def lengthCoordinate(x, y):\n",
    "    df2_length = df2.count()\n",
    "    for i in range (df2_length):\n",
    "        x[i] = x[i-1] + y[i-1] *0.001* 0.04\n",
    "    return x\n",
    "\n",
    "length_coor = df2.select('*', lengthCoordinate(col('lengthCoordinate'), col('Snelheid_HA')))\n",
    "\n",
    "length_coor.show()\n",
    "\n",
    "# lenth_coor = udf(lambda x, y:lengthCoordinate(x, y), FloatType())\n",
    "# df3 = df2.withColumn('lengthCoordinate', lenth_coor(col('lengthCoordinate'), col('Snelheid_HA')))\n",
    "# df3.show()"
   ]
  }
 ],
 "metadata": {
  "kernelspec": {
   "display_name": "Python 3.9.12 ('base')",
   "language": "python",
   "name": "python3"
  },
  "language_info": {
   "codemirror_mode": {
    "name": "ipython",
    "version": 3
   },
   "file_extension": ".py",
   "mimetype": "text/x-python",
   "name": "python",
   "nbconvert_exporter": "python",
   "pygments_lexer": "ipython3",
   "version": "3.9.12"
  },
  "vscode": {
   "interpreter": {
    "hash": "4c5fecb72096018fff2bef66cc69bd0e3a5732631898296c325d9ee69525bccd"
   }
  }
 },
 "nbformat": 4,
 "nbformat_minor": 0
}
