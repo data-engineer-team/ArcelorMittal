{
 "cells": [
  {
   "cell_type": "code",
   "execution_count": 2,
   "metadata": {},
   "outputs": [],
   "source": [
    "import pyspark\n",
    "from pyspark.sql import  SparkSession\n",
    "import os"
   ]
  },
  {
   "cell_type": "code",
   "execution_count": 3,
   "metadata": {},
   "outputs": [],
   "source": [
    "spark = SparkSession.builder \\\n",
    "    .appName('B345') \\\n",
    "    .getOrCreate()\n"
   ]
  },
  {
   "cell_type": "code",
   "execution_count": 4,
   "metadata": {},
   "outputs": [],
   "source": [
    "# read csv file\n",
    "df = spark.read.option('header', 'true').csv('B3_B4_processed.csv', inferSchema=True)"
   ]
  },
  {
   "cell_type": "code",
   "execution_count": 4,
   "metadata": {},
   "outputs": [
    {
     "name": "stdout",
     "output_type": "stream",
     "text": [
      "+---+----------+----------+-----------+-------------+-----------------+-------------+-----------------+------------------+---+---+\n",
      "|_c0|   _FileId|_SegmentNr|Snelheid_EW|B3_Time_Based|B3_Abs_Plaus_Time|B4_Time_Based|B4_Abs_Plaus_Time|  lengthCoordinate| B3| B4|\n",
      "+---+----------+----------+-----------+-------------+-----------------+-------------+-----------------+------------------+---+---+\n",
      "|  0|1651941735|         0|     6232.9|         null|             null|         null|             null|               0.0|0.0|0.0|\n",
      "|  1|1651941735|         1|     6232.9|         null|             null|         null|             null|          0.249316|0.0|0.0|\n",
      "|  2|1651941735|         2|     6235.6|         null|             null|         null|             null|          0.498632|0.0|0.0|\n",
      "|  3|1651941735|         3|     6246.4|         null|             null|         null|             null|          0.748056|0.0|0.0|\n",
      "|  4|1651941735|         4|     6246.4|         null|             null|         null|             null|          0.997912|0.0|0.0|\n",
      "|  5|1651941735|         5|     6241.0|         null|             null|         null|             null|          1.247768|0.0|0.0|\n",
      "|  6|1651941735|         6|     6235.6|         null|             null|         null|             null|          1.497408|0.0|0.0|\n",
      "|  7|1651941735|         7|     6230.2|         null|             null|         null|             null|1.7468320000000002|0.0|0.0|\n",
      "|  8|1651941735|         8|     6243.7|         null|             null|         null|             null|1.9960400000000003|0.0|0.0|\n",
      "|  9|1651941735|         9|     6243.7|         null|             null|         null|             null|          2.245788|0.0|0.0|\n",
      "| 10|1651941735|        10|     6235.6|         null|             null|         null|             null|          2.495536|0.0|0.0|\n",
      "| 11|1651941735|        11|     6232.9|         null|             null|         null|             null|           2.74496|0.0|0.0|\n",
      "| 12|1651941735|        12|     6243.7|         null|             null|         null|             null|2.9942759999999997|0.0|0.0|\n",
      "| 13|1651941735|        13|     6251.8|         null|             null|         null|             null|3.2440239999999996|0.0|0.0|\n",
      "| 14|1651941735|        14|     6243.7|         null|             null|         null|             null|3.4940959999999994|0.0|0.0|\n",
      "| 15|1651941735|        15|     6241.0|         null|             null|         null|             null|3.7438439999999993|0.0|0.0|\n",
      "| 16|1651941735|        16|     6235.6|         null|             null|         null|             null| 3.993483999999999|0.0|0.0|\n",
      "| 17|1651941735|        17|     6241.0|         null|             null|         null|             null| 4.242907999999999|0.0|0.0|\n",
      "| 18|1651941735|        18|     6235.6|         null|             null|         null|             null| 4.492547999999999|0.0|0.0|\n",
      "| 19|1651941735|        19|     6241.0|         null|             null|         null|             null|          4.741972|0.0|0.0|\n",
      "+---+----------+----------+-----------+-------------+-----------------+-------------+-----------------+------------------+---+---+\n",
      "only showing top 20 rows\n",
      "\n"
     ]
    }
   ],
   "source": [
    "df.show()"
   ]
  },
  {
   "cell_type": "code",
   "execution_count": 5,
   "metadata": {},
   "outputs": [
    {
     "name": "stdout",
     "output_type": "stream",
     "text": [
      "root\n",
      " |-- _c0: integer (nullable = true)\n",
      " |-- _FileId: integer (nullable = true)\n",
      " |-- _SegmentNr: integer (nullable = true)\n",
      " |-- Snelheid_EW: double (nullable = true)\n",
      " |-- B3_Time_Based: double (nullable = true)\n",
      " |-- B3_Abs_Plaus_Time: double (nullable = true)\n",
      " |-- B4_Time_Based: double (nullable = true)\n",
      " |-- B4_Abs_Plaus_Time: double (nullable = true)\n",
      " |-- lengthCoordinate: double (nullable = true)\n",
      " |-- B3: double (nullable = true)\n",
      " |-- B4: double (nullable = true)\n",
      "\n"
     ]
    }
   ],
   "source": [
    "# show shcema of the dataframe\n",
    "df.printSchema()"
   ]
  },
  {
   "cell_type": "code",
   "execution_count": 5,
   "metadata": {},
   "outputs": [],
   "source": [
    "df2 = df.drop('Unnamed: 0')\n",
    "df3 = df2.drop('_SegmentNr', 'Snelheid_EW', 'B3_Time_Based', 'B3_Abs_Plaus_Time', 'B4_Time_Based', 'B4_Abs_Plaus_Time')\n",
    "df4 = df3.drop('_c0')"
   ]
  },
  {
   "cell_type": "code",
   "execution_count": 11,
   "metadata": {},
   "outputs": [
    {
     "name": "stdout",
     "output_type": "stream",
     "text": [
      "+----------+------------------+---+---+\n",
      "|   _FileId|  lengthCoordinate| B3| B4|\n",
      "+----------+------------------+---+---+\n",
      "|1651941735|               0.0|0.0|0.0|\n",
      "|1651941735|          0.249316|0.0|0.0|\n",
      "|1651941735|          0.498632|0.0|0.0|\n",
      "|1651941735|          0.748056|0.0|0.0|\n",
      "|1651941735|          0.997912|0.0|0.0|\n",
      "|1651941735|          1.247768|0.0|0.0|\n",
      "|1651941735|          1.497408|0.0|0.0|\n",
      "|1651941735|1.7468320000000002|0.0|0.0|\n",
      "|1651941735|1.9960400000000003|0.0|0.0|\n",
      "|1651941735|          2.245788|0.0|0.0|\n",
      "|1651941735|          2.495536|0.0|0.0|\n",
      "|1651941735|           2.74496|0.0|0.0|\n",
      "|1651941735|2.9942759999999997|0.0|0.0|\n",
      "|1651941735|3.2440239999999996|0.0|0.0|\n",
      "|1651941735|3.4940959999999994|0.0|0.0|\n",
      "|1651941735|3.7438439999999993|0.0|0.0|\n",
      "|1651941735| 3.993483999999999|0.0|0.0|\n",
      "|1651941735| 4.242907999999999|0.0|0.0|\n",
      "|1651941735| 4.492547999999999|0.0|0.0|\n",
      "|1651941735|          4.741972|0.0|0.0|\n",
      "+----------+------------------+---+---+\n",
      "only showing top 20 rows\n",
      "\n"
     ]
    }
   ],
   "source": [
    "df4.show()"
   ]
  },
  {
   "cell_type": "markdown",
   "metadata": {},
   "source": [
    "## B3"
   ]
  },
  {
   "cell_type": "code",
   "execution_count": 7,
   "metadata": {},
   "outputs": [
    {
     "name": "stdout",
     "output_type": "stream",
     "text": [
      "root\n",
      " |-- _FileId: integer (nullable = true)\n",
      " |-- lengthCoordinate: double (nullable = true)\n",
      " |-- B3: double (nullable = true)\n",
      "\n"
     ]
    }
   ],
   "source": [
    "df_B3 = df4.drop('B4')\n",
    "df_B3.printSchema()"
   ]
  },
  {
   "cell_type": "code",
   "execution_count": 8,
   "metadata": {},
   "outputs": [
    {
     "name": "stdout",
     "output_type": "stream",
     "text": [
      "+----------+----------------+---+\n",
      "|   _FileId|lengthCoordinate| B3|\n",
      "+----------+----------------+---+\n",
      "|1651941735|             0.0|0.0|\n",
      "|1651941735|        0.249316|0.0|\n",
      "|1651941735|        0.498632|0.0|\n",
      "|1651941735|        0.748056|0.0|\n",
      "|1651941735|        0.997912|0.0|\n",
      "|1651941735|        1.247768|0.0|\n",
      "|1651941735|        1.497408|0.0|\n",
      "|1651941735|        1.746832|0.0|\n",
      "|1651941735|         1.99604|0.0|\n",
      "|1651941735|        2.245788|0.0|\n",
      "|1651941735|        2.495536|0.0|\n",
      "|1651941735|         2.74496|0.0|\n",
      "|1651941735|        2.994276|0.0|\n",
      "|1651941735|        3.244024|0.0|\n",
      "|1651941735|        3.494096|0.0|\n",
      "|1651941735|        3.743844|0.0|\n",
      "|1651941735|        3.993484|0.0|\n",
      "|1651941735|        4.242908|0.0|\n",
      "|1651941735|        4.492548|0.0|\n",
      "|1651941735|        4.741972|0.0|\n",
      "+----------+----------------+---+\n",
      "only showing top 20 rows\n",
      "\n"
     ]
    }
   ],
   "source": [
    "from pyspark.sql.types import IntegerType, FloatType\n",
    "from pyspark.sql.functions import col\n",
    "\n",
    "df_B3 = df_B3 \\\n",
    "  .withColumn(\"lengthCoordinate\" ,\n",
    "              df_B3[\"lengthCoordinate\"]\n",
    "              .cast(FloatType()))   \\\n",
    "  .withColumn(\"B3\",\n",
    "              df_B3[\"B3\"]\n",
    "              .cast(FloatType()))\n",
    "\n",
    "df_B3.show()"
   ]
  },
  {
   "cell_type": "markdown",
   "metadata": {},
   "source": [
    "## add coilNumber to B3"
   ]
  },
  {
   "cell_type": "code",
   "execution_count": 9,
   "metadata": {},
   "outputs": [],
   "source": [
    "# read coilInfo CSV file\n",
    "df_coil_b3 = spark.read.option('header', 'true').csv('referentieB3_B4.csv', inferSchema=True)"
   ]
  },
  {
   "cell_type": "code",
   "execution_count": 10,
   "metadata": {},
   "outputs": [
    {
     "name": "stdout",
     "output_type": "stream",
     "text": [
      "+----------+---------+\n",
      "|   _FileId|Rolnummer|\n",
      "+----------+---------+\n",
      "|1652730130|   283798|\n",
      "|1653018826|   283800|\n",
      "|1653535200|   283801|\n",
      "|1653015786|   283802|\n",
      "|1653509472|   283803|\n",
      "|1651941735|   283804|\n",
      "|1652492652|   283805|\n",
      "|1652986410|   283806|\n",
      "|1652442547|   283807|\n",
      "|1652983516|   283808|\n",
      "|1652434323|   283809|\n",
      "|1653209077|   283810|\n",
      "|1652678559|   283811|\n",
      "|1653181616|   283812|\n",
      "|1653691585|   283813|\n",
      "|1653174096|   283814|\n",
      "|1653674288|   283815|\n",
      "|1653116649|   283816|\n",
      "|1654683836|   283817|\n",
      "|1655173668|   283818|\n",
      "+----------+---------+\n",
      "only showing top 20 rows\n",
      "\n"
     ]
    }
   ],
   "source": [
    "df_coil_b3 = df_coil_b3.drop('_TimeStamp')\n",
    "df_coil_b3.show()"
   ]
  },
  {
   "cell_type": "code",
   "execution_count": 11,
   "metadata": {},
   "outputs": [
    {
     "name": "stdout",
     "output_type": "stream",
     "text": [
      "+----------+----------------+---+----------+---------+\n",
      "|   _FileId|lengthCoordinate| B3|   _FileId|Rolnummer|\n",
      "+----------+----------------+---+----------+---------+\n",
      "|1653116649|             0.0|0.0|1653116649|   283816|\n",
      "|1653116649|        0.251072|0.0|1653116649|   283816|\n",
      "|1653116649|        0.501928|0.0|1653116649|   283816|\n",
      "|1653116649|        0.753216|0.0|1653116649|   283816|\n",
      "|1653116649|        1.004072|0.0|1653116649|   283816|\n",
      "|1653116649|        1.255144|0.0|1653116649|   283816|\n",
      "|1653116649|        1.506324|0.0|1653116649|   283816|\n",
      "|1653116649|        1.757828|0.0|1653116649|   283816|\n",
      "|1653116649|         2.00944|0.0|1653116649|   283816|\n",
      "|1653116649|        2.260404|0.0|1653116649|   283816|\n",
      "|1653116649|        2.511152|0.0|1653116649|   283816|\n",
      "|1653116649|          2.7619|0.0|1653116649|   283816|\n",
      "|1653116649|         3.01308|0.0|1653116649|   283816|\n",
      "|1653116649|        3.264152|0.0|1653116649|   283816|\n",
      "|1653116649|        3.515116|0.0|1653116649|   283816|\n",
      "|1653116649|        3.765864|0.0|1653116649|   283816|\n",
      "|1653116649|        4.017044|0.0|1653116649|   283816|\n",
      "|1653116649|         4.26844|0.0|1653116649|   283816|\n",
      "|1653116649|        4.519728|0.0|1653116649|   283816|\n",
      "|1653116649|        4.770584|0.0|1653116649|   283816|\n",
      "+----------+----------------+---+----------+---------+\n",
      "only showing top 20 rows\n",
      "\n"
     ]
    }
   ],
   "source": [
    "# join rolnummer from coilInfo file to df_B3\n",
    "df_b3_with_coil = df_B3.join(df_coil_b3, df_B3._FileId == df_coil_b3._FileId, how='right')\n",
    "df_b3_with_coil.show()"
   ]
  },
  {
   "cell_type": "code",
   "execution_count": 12,
   "metadata": {},
   "outputs": [],
   "source": [
    "df_b3_with_coil = df_b3_with_coil.drop('_FileId')"
   ]
  },
  {
   "cell_type": "code",
   "execution_count": 13,
   "metadata": {},
   "outputs": [
    {
     "name": "stdout",
     "output_type": "stream",
     "text": [
      "+----------------+---+------+\n",
      "|lengthCoordinate| B3|coilId|\n",
      "+----------------+---+------+\n",
      "|             0.0|0.0|283816|\n",
      "|        0.251072|0.0|283816|\n",
      "|        0.501928|0.0|283816|\n",
      "|        0.753216|0.0|283816|\n",
      "|        1.004072|0.0|283816|\n",
      "|        1.255144|0.0|283816|\n",
      "|        1.506324|0.0|283816|\n",
      "|        1.757828|0.0|283816|\n",
      "|         2.00944|0.0|283816|\n",
      "|        2.260404|0.0|283816|\n",
      "|        2.511152|0.0|283816|\n",
      "|          2.7619|0.0|283816|\n",
      "|         3.01308|0.0|283816|\n",
      "|        3.264152|0.0|283816|\n",
      "|        3.515116|0.0|283816|\n",
      "|        3.765864|0.0|283816|\n",
      "|        4.017044|0.0|283816|\n",
      "|         4.26844|0.0|283816|\n",
      "|        4.519728|0.0|283816|\n",
      "|        4.770584|0.0|283816|\n",
      "+----------------+---+------+\n",
      "only showing top 20 rows\n",
      "\n"
     ]
    }
   ],
   "source": [
    "# rename column\n",
    "df_b3_with_coil = df_b3_with_coil.withColumnRenamed('Rolnummer', 'coilId')\n",
    "df_b3_with_coil.show()"
   ]
  },
  {
   "cell_type": "code",
   "execution_count": 14,
   "metadata": {},
   "outputs": [],
   "source": [
    "# change datatype to integer\n",
    "df_b3_with_coil = df_b3_with_coil \\\n",
    "  .withColumn(\"coilId\" ,\n",
    "              df_b3_with_coil[\"coilId\"]\n",
    "              .cast(IntegerType())) "
   ]
  },
  {
   "cell_type": "code",
   "execution_count": 19,
   "metadata": {},
   "outputs": [
    {
     "name": "stdout",
     "output_type": "stream",
     "text": [
      "+------+----------------+---+\n",
      "|coilId|lengthCoordinate| B3|\n",
      "+------+----------------+---+\n",
      "|283816|             0.0|0.0|\n",
      "|283816|        0.251072|0.0|\n",
      "|283816|        0.501928|0.0|\n",
      "|283816|        0.753216|0.0|\n",
      "|283816|        1.004072|0.0|\n",
      "|283816|        1.255144|0.0|\n",
      "|283816|        1.506324|0.0|\n",
      "|283816|        1.757828|0.0|\n",
      "|283816|         2.00944|0.0|\n",
      "|283816|        2.260404|0.0|\n",
      "|283816|        2.511152|0.0|\n",
      "|283816|          2.7619|0.0|\n",
      "|283816|         3.01308|0.0|\n",
      "|283816|        3.264152|0.0|\n",
      "|283816|        3.515116|0.0|\n",
      "|283816|        3.765864|0.0|\n",
      "|283816|        4.017044|0.0|\n",
      "|283816|         4.26844|0.0|\n",
      "|283816|        4.519728|0.0|\n",
      "|283816|        4.770584|0.0|\n",
      "+------+----------------+---+\n",
      "only showing top 20 rows\n",
      "\n"
     ]
    }
   ],
   "source": [
    "df_b3_with_coil = df_b3_with_coil.select('coilId', 'lengthCoordinate', 'B3')\n",
    "df_b3_with_coil.show()"
   ]
  },
  {
   "cell_type": "code",
   "execution_count": 19,
   "metadata": {},
   "outputs": [
    {
     "name": "stdout",
     "output_type": "stream",
     "text": [
      "root\n",
      " |-- coilId: integer (nullable = true)\n",
      " |-- lengthCoordinate: float (nullable = true)\n",
      " |-- B3: float (nullable = true)\n",
      "\n"
     ]
    }
   ],
   "source": [
    "df_b3_with_coil.printSchema()"
   ]
  },
  {
   "cell_type": "code",
   "execution_count": null,
   "metadata": {},
   "outputs": [],
   "source": [
    "# write dataframe to database\n",
    "url = \"jdbc:sqlite:database_B345.db\"\n",
    "df_b3_with_coil.write.jdbc(url=url, driver='org.sqlite.JDBC', table='B3')"
   ]
  },
  {
   "cell_type": "markdown",
   "metadata": {},
   "source": [
    "## B4"
   ]
  },
  {
   "cell_type": "code",
   "execution_count": null,
   "metadata": {},
   "outputs": [
    {
     "name": "stdout",
     "output_type": "stream",
     "text": [
      "root\n",
      " |-- _FileId: integer (nullable = true)\n",
      " |-- lengthCoordinate: double (nullable = true)\n",
      " |-- B4: double (nullable = true)\n",
      "\n"
     ]
    }
   ],
   "source": [
    "df_B4 = df4.drop('B3')\n",
    "df_B4.printSchema()"
   ]
  },
  {
   "cell_type": "code",
   "execution_count": null,
   "metadata": {},
   "outputs": [
    {
     "name": "stdout",
     "output_type": "stream",
     "text": [
      "root\n",
      " |-- _FileId: integer (nullable = true)\n",
      " |-- lengthCoordinate: float (nullable = true)\n",
      " |-- B4: float (nullable = true)\n",
      "\n"
     ]
    }
   ],
   "source": [
    "df_B4 = df_B4 \\\n",
    "  .withColumn(\"lengthCoordinate\" ,\n",
    "              df_B4[\"lengthCoordinate\"]\n",
    "              .cast(FloatType()))   \\\n",
    "  .withColumn(\"B4\",\n",
    "              df_B4[\"B4\"]\n",
    "              .cast(FloatType()))\n",
    "\n",
    "df_B4.printSchema()"
   ]
  },
  {
   "cell_type": "code",
   "execution_count": null,
   "metadata": {},
   "outputs": [
    {
     "name": "stdout",
     "output_type": "stream",
     "text": [
      "+----------+----------------+---+----------+---------+\n",
      "|   _FileId|lengthCoordinate| B4|   _FileId|Rolnummer|\n",
      "+----------+----------------+---+----------+---------+\n",
      "|1651941735|             0.0|0.0|1651941735|   283804|\n",
      "|1651941735|        0.249316|0.0|1651941735|   283804|\n",
      "|1651941735|        0.498632|0.0|1651941735|   283804|\n",
      "|1651941735|        0.748056|0.0|1651941735|   283804|\n",
      "|1651941735|        0.997912|0.0|1651941735|   283804|\n",
      "|1651941735|        1.247768|0.0|1651941735|   283804|\n",
      "|1651941735|        1.497408|0.0|1651941735|   283804|\n",
      "|1651941735|        1.746832|0.0|1651941735|   283804|\n",
      "|1651941735|         1.99604|0.0|1651941735|   283804|\n",
      "|1651941735|        2.245788|0.0|1651941735|   283804|\n",
      "|1651941735|        2.495536|0.0|1651941735|   283804|\n",
      "|1651941735|         2.74496|0.0|1651941735|   283804|\n",
      "|1651941735|        2.994276|0.0|1651941735|   283804|\n",
      "|1651941735|        3.244024|0.0|1651941735|   283804|\n",
      "|1651941735|        3.494096|0.0|1651941735|   283804|\n",
      "|1651941735|        3.743844|0.0|1651941735|   283804|\n",
      "|1651941735|        3.993484|0.0|1651941735|   283804|\n",
      "|1651941735|        4.242908|0.0|1651941735|   283804|\n",
      "|1651941735|        4.492548|0.0|1651941735|   283804|\n",
      "|1651941735|        4.741972|0.0|1651941735|   283804|\n",
      "+----------+----------------+---+----------+---------+\n",
      "only showing top 20 rows\n",
      "\n"
     ]
    }
   ],
   "source": [
    "df_b4_with_coil = df_B4.join(df_coil_b3, df_B4._FileId == df_coil_b3._FileId, how='left')\n",
    "df_b4_with_coil.show()"
   ]
  },
  {
   "cell_type": "code",
   "execution_count": null,
   "metadata": {},
   "outputs": [
    {
     "name": "stdout",
     "output_type": "stream",
     "text": [
      "+----------------+---+------+\n",
      "|lengthCoordinate| B4|coilId|\n",
      "+----------------+---+------+\n",
      "|             0.0|0.0|283804|\n",
      "|        0.249316|0.0|283804|\n",
      "|        0.498632|0.0|283804|\n",
      "|        0.748056|0.0|283804|\n",
      "|        0.997912|0.0|283804|\n",
      "|        1.247768|0.0|283804|\n",
      "|        1.497408|0.0|283804|\n",
      "|        1.746832|0.0|283804|\n",
      "|         1.99604|0.0|283804|\n",
      "|        2.245788|0.0|283804|\n",
      "|        2.495536|0.0|283804|\n",
      "|         2.74496|0.0|283804|\n",
      "|        2.994276|0.0|283804|\n",
      "|        3.244024|0.0|283804|\n",
      "|        3.494096|0.0|283804|\n",
      "|        3.743844|0.0|283804|\n",
      "|        3.993484|0.0|283804|\n",
      "|        4.242908|0.0|283804|\n",
      "|        4.492548|0.0|283804|\n",
      "|        4.741972|0.0|283804|\n",
      "+----------------+---+------+\n",
      "only showing top 20 rows\n",
      "\n"
     ]
    }
   ],
   "source": [
    "df_b4_with_coil = df_b4_with_coil.drop('_FileId')\n",
    "\n",
    "df_b4_with_coil = df_b4_with_coil.withColumnRenamed('Rolnummer', 'coilId')\n",
    "df_b4_with_coil.show()\n"
   ]
  },
  {
   "cell_type": "code",
   "execution_count": null,
   "metadata": {},
   "outputs": [],
   "source": [
    "df_b4_with_coil = df_b4_with_coil \\\n",
    "  .withColumn(\"coilId\" ,\n",
    "              df_b4_with_coil[\"coilId\"]\n",
    "              .cast(IntegerType())) "
   ]
  },
  {
   "cell_type": "code",
   "execution_count": null,
   "metadata": {},
   "outputs": [],
   "source": [
    "df_b4_with_coil = df_b4_with_coil.select('coilId', 'lengthCoordinate', 'B4')"
   ]
  },
  {
   "cell_type": "code",
   "execution_count": null,
   "metadata": {},
   "outputs": [
    {
     "name": "stdout",
     "output_type": "stream",
     "text": [
      "+------+----------------+---+\n",
      "|coilId|lengthCoordinate| B4|\n",
      "+------+----------------+---+\n",
      "|283804|             0.0|0.0|\n",
      "|283804|        0.249316|0.0|\n",
      "|283804|        0.498632|0.0|\n",
      "|283804|        0.748056|0.0|\n",
      "|283804|        0.997912|0.0|\n",
      "|283804|        1.247768|0.0|\n",
      "|283804|        1.497408|0.0|\n",
      "|283804|        1.746832|0.0|\n",
      "|283804|         1.99604|0.0|\n",
      "|283804|        2.245788|0.0|\n",
      "|283804|        2.495536|0.0|\n",
      "|283804|         2.74496|0.0|\n",
      "|283804|        2.994276|0.0|\n",
      "|283804|        3.244024|0.0|\n",
      "|283804|        3.494096|0.0|\n",
      "|283804|        3.743844|0.0|\n",
      "|283804|        3.993484|0.0|\n",
      "|283804|        4.242908|0.0|\n",
      "|283804|        4.492548|0.0|\n",
      "|283804|        4.741972|0.0|\n",
      "+------+----------------+---+\n",
      "only showing top 20 rows\n",
      "\n"
     ]
    }
   ],
   "source": [
    "df_b4_with_coil.show()"
   ]
  },
  {
   "cell_type": "code",
   "execution_count": null,
   "metadata": {},
   "outputs": [],
   "source": [
    "# write dataframe B4 to database \n",
    "url = \"jdbc:sqlite:database_B345.db\"\n",
    "df_b4_with_coil.write.jdbc(url=url, driver='org.sqlite.JDBC', table='B4')"
   ]
  },
  {
   "cell_type": "markdown",
   "metadata": {},
   "source": [
    "## dataframe B5"
   ]
  },
  {
   "cell_type": "code",
   "execution_count": 8,
   "metadata": {},
   "outputs": [
    {
     "name": "stdout",
     "output_type": "stream",
     "text": [
      "+---+----------+---+------------------+\n",
      "|_c0|   _FileId| B5|  lengthCoordinate|\n",
      "+---+----------+---+------------------+\n",
      "|  0|1651763725|0.0|               0.0|\n",
      "|  1|1651763725|0.0|         0.2920536|\n",
      "|  2|1651763725|0.0|         0.5843232|\n",
      "|  3|1651763725|0.0|0.8767872000000001|\n",
      "|  4|1651763725|0.0|1.1692620000000002|\n",
      "|  5|1651763725|0.0|1.4618016000000003|\n",
      "|  6|1651763725|0.0|1.7540496000000003|\n",
      "|  7|1651763725|0.0|2.0462976000000004|\n",
      "|  8|1651763725|0.0|2.3385888000000006|\n",
      "|  9|1651763725|0.0|2.6312688000000004|\n",
      "| 10|1651763725|0.0|2.9239488000000002|\n",
      "| 11|1651763725|0.0|         3.2166396|\n",
      "| 12|1651763725|0.0|         3.5094276|\n",
      "| 13|1651763725|0.0|         3.8021616|\n",
      "| 14|1651763725|0.0|         4.0943988|\n",
      "| 15|1651763725|0.0|4.3865495999999995|\n",
      "| 16|1651763725|0.0|         4.6788624|\n",
      "| 17|1651763725|0.0|         4.9717584|\n",
      "| 18|1651763725|0.0|          5.264676|\n",
      "| 19|1651763725|0.0| 5.557777199999999|\n",
      "+---+----------+---+------------------+\n",
      "only showing top 20 rows\n",
      "\n"
     ]
    }
   ],
   "source": [
    "df_B5 = spark.read.option('header', 'true').csv('B5_processed.csv', inferSchema=True)\n",
    "df_B5.show()"
   ]
  },
  {
   "cell_type": "code",
   "execution_count": 9,
   "metadata": {},
   "outputs": [
    {
     "name": "stdout",
     "output_type": "stream",
     "text": [
      "+----------+-------------------+---------+\n",
      "|   _FileId|         _TimeStamp|Rolnummer|\n",
      "+----------+-------------------+---------+\n",
      "|1652013153|2022-07-19 05:49:01|   283798|\n",
      "|1652296902|2022-07-19 05:53:33|   283800|\n",
      "|1651763725|2022-07-19 05:54:46|   283801|\n",
      "|1653342091|2022-07-19 05:56:51|   283802|\n",
      "|1653833331|2022-07-19 05:58:14|   283803|\n",
      "|1653319126|2022-07-19 06:00:02|   283804|\n",
      "|1653869909|2022-07-19 06:02:10|   283805|\n",
      "|1653316797|2022-07-19 06:03:33|   283806|\n",
      "|1653820249|2022-07-19 06:04:55|   283807|\n",
      "|1654364325|2022-07-19 06:06:45|   283808|\n",
      "|1653808728|2022-07-19 06:08:14|   283809|\n",
      "|1654584287|2022-07-19 06:09:45|   283810|\n",
      "|1654053353|2022-07-19 06:11:22|   283811|\n",
      "|1654564234|2022-07-19 06:12:58|   283812|\n",
      "|1654023411|2022-07-19 06:14:29|   283813|\n",
      "|1654551125|2022-07-19 06:16:09|   283814|\n",
      "|1653999334|2022-07-19 06:17:37|   283815|\n",
      "|1653442318|2022-07-19 06:19:07|   283816|\n",
      "|1653959981|2022-07-19 06:20:34|   283817|\n",
      "|1653399845|2022-07-19 06:22:07|   283818|\n",
      "+----------+-------------------+---------+\n",
      "only showing top 20 rows\n",
      "\n"
     ]
    }
   ],
   "source": [
    "df_coil_b5 = spark.read.option('header', 'true').csv('referentieB5.csv', inferSchema=True)\n",
    "df_coil_b5.show()"
   ]
  },
  {
   "cell_type": "code",
   "execution_count": 10,
   "metadata": {},
   "outputs": [
    {
     "name": "stdout",
     "output_type": "stream",
     "text": [
      "+---+----------+---+------------------+----------+-------------------+---------+\n",
      "|_c0|   _FileId| B5|  lengthCoordinate|   _FileId|         _TimeStamp|Rolnummer|\n",
      "+---+----------+---+------------------+----------+-------------------+---------+\n",
      "|  0|1651763725|0.0|               0.0|1651763725|2022-07-19 05:54:46|   283801|\n",
      "|  1|1651763725|0.0|         0.2920536|1651763725|2022-07-19 05:54:46|   283801|\n",
      "|  2|1651763725|0.0|         0.5843232|1651763725|2022-07-19 05:54:46|   283801|\n",
      "|  3|1651763725|0.0|0.8767872000000001|1651763725|2022-07-19 05:54:46|   283801|\n",
      "|  4|1651763725|0.0|1.1692620000000002|1651763725|2022-07-19 05:54:46|   283801|\n",
      "|  5|1651763725|0.0|1.4618016000000003|1651763725|2022-07-19 05:54:46|   283801|\n",
      "|  6|1651763725|0.0|1.7540496000000003|1651763725|2022-07-19 05:54:46|   283801|\n",
      "|  7|1651763725|0.0|2.0462976000000004|1651763725|2022-07-19 05:54:46|   283801|\n",
      "|  8|1651763725|0.0|2.3385888000000006|1651763725|2022-07-19 05:54:46|   283801|\n",
      "|  9|1651763725|0.0|2.6312688000000004|1651763725|2022-07-19 05:54:46|   283801|\n",
      "| 10|1651763725|0.0|2.9239488000000002|1651763725|2022-07-19 05:54:46|   283801|\n",
      "| 11|1651763725|0.0|         3.2166396|1651763725|2022-07-19 05:54:46|   283801|\n",
      "| 12|1651763725|0.0|         3.5094276|1651763725|2022-07-19 05:54:46|   283801|\n",
      "| 13|1651763725|0.0|         3.8021616|1651763725|2022-07-19 05:54:46|   283801|\n",
      "| 14|1651763725|0.0|         4.0943988|1651763725|2022-07-19 05:54:46|   283801|\n",
      "| 15|1651763725|0.0|4.3865495999999995|1651763725|2022-07-19 05:54:46|   283801|\n",
      "| 16|1651763725|0.0|         4.6788624|1651763725|2022-07-19 05:54:46|   283801|\n",
      "| 17|1651763725|0.0|         4.9717584|1651763725|2022-07-19 05:54:46|   283801|\n",
      "| 18|1651763725|0.0|          5.264676|1651763725|2022-07-19 05:54:46|   283801|\n",
      "| 19|1651763725|0.0| 5.557777199999999|1651763725|2022-07-19 05:54:46|   283801|\n",
      "+---+----------+---+------------------+----------+-------------------+---------+\n",
      "only showing top 20 rows\n",
      "\n"
     ]
    }
   ],
   "source": [
    "df_b5_with_coil = df_B5.join(df_coil_b5, df_B5._FileId == df_coil_b5._FileId, how='right')\n",
    "df_b5_with_coil.show()"
   ]
  },
  {
   "cell_type": "code",
   "execution_count": null,
   "metadata": {},
   "outputs": [],
   "source": [
    "# check the number of the nan values\n",
    "from pyspark.sql.functions import col,isnan, when, count\n",
    "df_b5_with_coil.select([count(when(isnan(c) | col(c).isNull(), c)).alias(c) for c in df_b5_with_coil.columns]\n",
    "   ).show()"
   ]
  },
  {
   "cell_type": "code",
   "execution_count": null,
   "metadata": {},
   "outputs": [
    {
     "name": "stdout",
     "output_type": "stream",
     "text": [
      "+---+------------------+------+\n",
      "| B5|  lengthCoordinate|coilId|\n",
      "+---+------------------+------+\n",
      "|0.0|               0.0|283801|\n",
      "|0.0|         0.2920536|283801|\n",
      "|0.0|         0.5843232|283801|\n",
      "|0.0|0.8767872000000001|283801|\n",
      "|0.0|1.1692620000000002|283801|\n",
      "|0.0|1.4618016000000003|283801|\n",
      "|0.0|1.7540496000000003|283801|\n",
      "|0.0|2.0462976000000004|283801|\n",
      "|0.0|2.3385888000000006|283801|\n",
      "|0.0|2.6312688000000004|283801|\n",
      "|0.0|2.9239488000000002|283801|\n",
      "|0.0|         3.2166396|283801|\n",
      "|0.0|         3.5094276|283801|\n",
      "|0.0|         3.8021616|283801|\n",
      "|0.0|         4.0943988|283801|\n",
      "|0.0|4.3865495999999995|283801|\n",
      "|0.0|         4.6788624|283801|\n",
      "|0.0|         4.9717584|283801|\n",
      "|0.0|          5.264676|283801|\n",
      "|0.0| 5.557777199999999|283801|\n",
      "+---+------------------+------+\n",
      "only showing top 20 rows\n",
      "\n"
     ]
    }
   ],
   "source": [
    "df_b5_with_coil = df_b5_with_coil.drop('_FileId', '_c0', '_FileId', '_TimeStamp')\n",
    "\n",
    "df_b5_with_coil = df_b5_with_coil.withColumnRenamed('Rolnummer', 'coilId')\n",
    "df_b5_with_coil.show()"
   ]
  },
  {
   "cell_type": "code",
   "execution_count": null,
   "metadata": {},
   "outputs": [],
   "source": [
    "df_b5_with_coil = df_b5_with_coil \\\n",
    "  .withColumn(\"coilId\" ,\n",
    "              df_b5_with_coil[\"coilId\"]\n",
    "              .cast(IntegerType())).withColumn(\"B5\",\n",
    "              df_b5_with_coil[\"B5\"]\n",
    "              .cast(FloatType()))"
   ]
  },
  {
   "cell_type": "code",
   "execution_count": null,
   "metadata": {},
   "outputs": [],
   "source": [
    "df_b5_with_coil = df_b5_with_coil.select('coilId', 'lengthCoordinate', 'B5')"
   ]
  },
  {
   "cell_type": "code",
   "execution_count": null,
   "metadata": {},
   "outputs": [
    {
     "name": "stdout",
     "output_type": "stream",
     "text": [
      "+------+------------------+---+\n",
      "|coilId|  lengthCoordinate| B5|\n",
      "+------+------------------+---+\n",
      "|283801|               0.0|0.0|\n",
      "|283801|         0.2920536|0.0|\n",
      "|283801|         0.5843232|0.0|\n",
      "|283801|0.8767872000000001|0.0|\n",
      "|283801|1.1692620000000002|0.0|\n",
      "|283801|1.4618016000000003|0.0|\n",
      "|283801|1.7540496000000003|0.0|\n",
      "|283801|2.0462976000000004|0.0|\n",
      "|283801|2.3385888000000006|0.0|\n",
      "|283801|2.6312688000000004|0.0|\n",
      "|283801|2.9239488000000002|0.0|\n",
      "|283801|         3.2166396|0.0|\n",
      "|283801|         3.5094276|0.0|\n",
      "|283801|         3.8021616|0.0|\n",
      "|283801|         4.0943988|0.0|\n",
      "|283801|4.3865495999999995|0.0|\n",
      "|283801|         4.6788624|0.0|\n",
      "|283801|         4.9717584|0.0|\n",
      "|283801|          5.264676|0.0|\n",
      "|283801| 5.557777199999999|0.0|\n",
      "+------+------------------+---+\n",
      "only showing top 20 rows\n",
      "\n"
     ]
    }
   ],
   "source": [
    "df_b5_with_coil.show()"
   ]
  },
  {
   "cell_type": "code",
   "execution_count": null,
   "metadata": {},
   "outputs": [],
   "source": [
    "# write dataframe B5 to database \n",
    "url = \"jdbc:sqlite:database_B345.db\"\n",
    "df_b4_with_coil.write.jdbc(url=url, driver='org.sqlite.JDBC', table='B5')"
   ]
  },
  {
   "cell_type": "code",
   "execution_count": null,
   "metadata": {},
   "outputs": [],
   "source": [
    "import pandas as pd\n"
   ]
  },
  {
   "cell_type": "code",
   "execution_count": null,
   "metadata": {},
   "outputs": [
    {
     "data": {
      "text/html": [
       "<div>\n",
       "<style scoped>\n",
       "    .dataframe tbody tr th:only-of-type {\n",
       "        vertical-align: middle;\n",
       "    }\n",
       "\n",
       "    .dataframe tbody tr th {\n",
       "        vertical-align: top;\n",
       "    }\n",
       "\n",
       "    .dataframe thead th {\n",
       "        text-align: right;\n",
       "    }\n",
       "</style>\n",
       "<table border=\"1\" class=\"dataframe\">\n",
       "  <thead>\n",
       "    <tr style=\"text-align: right;\">\n",
       "      <th></th>\n",
       "      <th>coil</th>\n",
       "      <th>furnace Number</th>\n",
       "      <th>analyse</th>\n",
       "      <th>Hardness_1</th>\n",
       "      <th>Hardness_2</th>\n",
       "      <th>Width</th>\n",
       "      <th>Temperature before finishing mill</th>\n",
       "      <th>Temperature after finishing mill</th>\n",
       "      <th>Thickness</th>\n",
       "      <th>Thickness profile</th>\n",
       "      <th>...</th>\n",
       "      <th>P</th>\n",
       "      <th>S</th>\n",
       "      <th>Al</th>\n",
       "      <th>M_Al</th>\n",
       "      <th>B</th>\n",
       "      <th>N</th>\n",
       "      <th>Ti</th>\n",
       "      <th>Cr</th>\n",
       "      <th>V</th>\n",
       "      <th>Mo</th>\n",
       "    </tr>\n",
       "  </thead>\n",
       "  <tbody>\n",
       "    <tr>\n",
       "      <th>0</th>\n",
       "      <td>283642</td>\n",
       "      <td>4</td>\n",
       "      <td>L651</td>\n",
       "      <td>12157</td>\n",
       "      <td>122</td>\n",
       "      <td>1731.316667</td>\n",
       "      <td>0.000000</td>\n",
       "      <td>906.25</td>\n",
       "      <td>4.35100</td>\n",
       "      <td>44.337225</td>\n",
       "      <td>...</td>\n",
       "      <td>133</td>\n",
       "      <td>11</td>\n",
       "      <td>326</td>\n",
       "      <td>319</td>\n",
       "      <td>3</td>\n",
       "      <td>62</td>\n",
       "      <td>29</td>\n",
       "      <td>3469</td>\n",
       "      <td>10</td>\n",
       "      <td>18</td>\n",
       "    </tr>\n",
       "    <tr>\n",
       "      <th>1</th>\n",
       "      <td>283643</td>\n",
       "      <td>1</td>\n",
       "      <td>KN71</td>\n",
       "      <td>11888</td>\n",
       "      <td>124</td>\n",
       "      <td>1602.800000</td>\n",
       "      <td>0.000000</td>\n",
       "      <td>887.75</td>\n",
       "      <td>3.74800</td>\n",
       "      <td>56.353765</td>\n",
       "      <td>...</td>\n",
       "      <td>142</td>\n",
       "      <td>76</td>\n",
       "      <td>309</td>\n",
       "      <td>291</td>\n",
       "      <td>1</td>\n",
       "      <td>51</td>\n",
       "      <td>9</td>\n",
       "      <td>145</td>\n",
       "      <td>1</td>\n",
       "      <td>15</td>\n",
       "    </tr>\n",
       "    <tr>\n",
       "      <th>2</th>\n",
       "      <td>283644</td>\n",
       "      <td>4</td>\n",
       "      <td>KM81</td>\n",
       "      <td>12419</td>\n",
       "      <td>129</td>\n",
       "      <td>1637.133333</td>\n",
       "      <td>0.000000</td>\n",
       "      <td>878.50</td>\n",
       "      <td>3.00950</td>\n",
       "      <td>48.505748</td>\n",
       "      <td>...</td>\n",
       "      <td>190</td>\n",
       "      <td>66</td>\n",
       "      <td>343</td>\n",
       "      <td>332</td>\n",
       "      <td>1</td>\n",
       "      <td>39</td>\n",
       "      <td>11</td>\n",
       "      <td>176</td>\n",
       "      <td>0</td>\n",
       "      <td>11</td>\n",
       "    </tr>\n",
       "    <tr>\n",
       "      <th>3</th>\n",
       "      <td>283645</td>\n",
       "      <td>1</td>\n",
       "      <td>KM31</td>\n",
       "      <td>11106</td>\n",
       "      <td>116</td>\n",
       "      <td>1697.450000</td>\n",
       "      <td>0.000000</td>\n",
       "      <td>869.50</td>\n",
       "      <td>3.01300</td>\n",
       "      <td>38.305057</td>\n",
       "      <td>...</td>\n",
       "      <td>136</td>\n",
       "      <td>56</td>\n",
       "      <td>322</td>\n",
       "      <td>283</td>\n",
       "      <td>1</td>\n",
       "      <td>57</td>\n",
       "      <td>14</td>\n",
       "      <td>209</td>\n",
       "      <td>0</td>\n",
       "      <td>10</td>\n",
       "    </tr>\n",
       "    <tr>\n",
       "      <th>4</th>\n",
       "      <td>283646</td>\n",
       "      <td>4</td>\n",
       "      <td>KM31</td>\n",
       "      <td>11106</td>\n",
       "      <td>116</td>\n",
       "      <td>1693.975000</td>\n",
       "      <td>0.000000</td>\n",
       "      <td>878.50</td>\n",
       "      <td>3.01300</td>\n",
       "      <td>36.405860</td>\n",
       "      <td>...</td>\n",
       "      <td>136</td>\n",
       "      <td>56</td>\n",
       "      <td>322</td>\n",
       "      <td>283</td>\n",
       "      <td>1</td>\n",
       "      <td>57</td>\n",
       "      <td>14</td>\n",
       "      <td>209</td>\n",
       "      <td>0</td>\n",
       "      <td>10</td>\n",
       "    </tr>\n",
       "    <tr>\n",
       "      <th>...</th>\n",
       "      <td>...</td>\n",
       "      <td>...</td>\n",
       "      <td>...</td>\n",
       "      <td>...</td>\n",
       "      <td>...</td>\n",
       "      <td>...</td>\n",
       "      <td>...</td>\n",
       "      <td>...</td>\n",
       "      <td>...</td>\n",
       "      <td>...</td>\n",
       "      <td>...</td>\n",
       "      <td>...</td>\n",
       "      <td>...</td>\n",
       "      <td>...</td>\n",
       "      <td>...</td>\n",
       "      <td>...</td>\n",
       "      <td>...</td>\n",
       "      <td>...</td>\n",
       "      <td>...</td>\n",
       "      <td>...</td>\n",
       "      <td>...</td>\n",
       "    </tr>\n",
       "    <tr>\n",
       "      <th>25298</th>\n",
       "      <td>350538</td>\n",
       "      <td>1</td>\n",
       "      <td>LM41</td>\n",
       "      <td>13043</td>\n",
       "      <td>136</td>\n",
       "      <td>766.033333</td>\n",
       "      <td>1188.085160</td>\n",
       "      <td>904.75</td>\n",
       "      <td>2.19975</td>\n",
       "      <td>29.012289</td>\n",
       "      <td>...</td>\n",
       "      <td>232</td>\n",
       "      <td>33</td>\n",
       "      <td>323</td>\n",
       "      <td>312</td>\n",
       "      <td>2</td>\n",
       "      <td>44</td>\n",
       "      <td>20</td>\n",
       "      <td>208</td>\n",
       "      <td>19</td>\n",
       "      <td>21</td>\n",
       "    </tr>\n",
       "    <tr>\n",
       "      <th>25299</th>\n",
       "      <td>350539</td>\n",
       "      <td>4</td>\n",
       "      <td>KM41</td>\n",
       "      <td>11473</td>\n",
       "      <td>120</td>\n",
       "      <td>821.300000</td>\n",
       "      <td>1160.497725</td>\n",
       "      <td>908.75</td>\n",
       "      <td>2.00050</td>\n",
       "      <td>26.631035</td>\n",
       "      <td>...</td>\n",
       "      <td>154</td>\n",
       "      <td>79</td>\n",
       "      <td>267</td>\n",
       "      <td>251</td>\n",
       "      <td>1</td>\n",
       "      <td>35</td>\n",
       "      <td>12</td>\n",
       "      <td>169</td>\n",
       "      <td>8</td>\n",
       "      <td>12</td>\n",
       "    </tr>\n",
       "    <tr>\n",
       "      <th>25300</th>\n",
       "      <td>350540</td>\n",
       "      <td>1</td>\n",
       "      <td>KM81</td>\n",
       "      <td>12368</td>\n",
       "      <td>129</td>\n",
       "      <td>775.950000</td>\n",
       "      <td>1195.974522</td>\n",
       "      <td>899.00</td>\n",
       "      <td>2.50900</td>\n",
       "      <td>34.303870</td>\n",
       "      <td>...</td>\n",
       "      <td>140</td>\n",
       "      <td>46</td>\n",
       "      <td>331</td>\n",
       "      <td>319</td>\n",
       "      <td>1</td>\n",
       "      <td>38</td>\n",
       "      <td>9</td>\n",
       "      <td>155</td>\n",
       "      <td>2</td>\n",
       "      <td>10</td>\n",
       "    </tr>\n",
       "    <tr>\n",
       "      <th>25301</th>\n",
       "      <td>350541</td>\n",
       "      <td>1</td>\n",
       "      <td>LM41</td>\n",
       "      <td>13027</td>\n",
       "      <td>136</td>\n",
       "      <td>769.300000</td>\n",
       "      <td>1182.732661</td>\n",
       "      <td>907.50</td>\n",
       "      <td>2.24750</td>\n",
       "      <td>27.411123</td>\n",
       "      <td>...</td>\n",
       "      <td>236</td>\n",
       "      <td>31</td>\n",
       "      <td>309</td>\n",
       "      <td>296</td>\n",
       "      <td>2</td>\n",
       "      <td>53</td>\n",
       "      <td>21</td>\n",
       "      <td>251</td>\n",
       "      <td>28</td>\n",
       "      <td>18</td>\n",
       "    </tr>\n",
       "    <tr>\n",
       "      <th>25302</th>\n",
       "      <td>350894</td>\n",
       "      <td>4</td>\n",
       "      <td>LK41</td>\n",
       "      <td>13032</td>\n",
       "      <td>136</td>\n",
       "      <td>1486.016667</td>\n",
       "      <td>1179.402243</td>\n",
       "      <td>887.00</td>\n",
       "      <td>4.51375</td>\n",
       "      <td>29.880353</td>\n",
       "      <td>...</td>\n",
       "      <td>149</td>\n",
       "      <td>22</td>\n",
       "      <td>385</td>\n",
       "      <td>372</td>\n",
       "      <td>2</td>\n",
       "      <td>47</td>\n",
       "      <td>31</td>\n",
       "      <td>179</td>\n",
       "      <td>13</td>\n",
       "      <td>15</td>\n",
       "    </tr>\n",
       "  </tbody>\n",
       "</table>\n",
       "<p>25303 rows × 24 columns</p>\n",
       "</div>"
      ],
      "text/plain": [
       "         coil  furnace Number analyse  Hardness_1  Hardness_2        Width  \\\n",
       "0      283642               4    L651       12157         122  1731.316667   \n",
       "1      283643               1    KN71       11888         124  1602.800000   \n",
       "2      283644               4    KM81       12419         129  1637.133333   \n",
       "3      283645               1    KM31       11106         116  1697.450000   \n",
       "4      283646               4    KM31       11106         116  1693.975000   \n",
       "...       ...             ...     ...         ...         ...          ...   \n",
       "25298  350538               1    LM41       13043         136   766.033333   \n",
       "25299  350539               4    KM41       11473         120   821.300000   \n",
       "25300  350540               1    KM81       12368         129   775.950000   \n",
       "25301  350541               1    LM41       13027         136   769.300000   \n",
       "25302  350894               4    LK41       13032         136  1486.016667   \n",
       "\n",
       "       Temperature before finishing mill  Temperature after finishing mill  \\\n",
       "0                               0.000000                            906.25   \n",
       "1                               0.000000                            887.75   \n",
       "2                               0.000000                            878.50   \n",
       "3                               0.000000                            869.50   \n",
       "4                               0.000000                            878.50   \n",
       "...                                  ...                               ...   \n",
       "25298                        1188.085160                            904.75   \n",
       "25299                        1160.497725                            908.75   \n",
       "25300                        1195.974522                            899.00   \n",
       "25301                        1182.732661                            907.50   \n",
       "25302                        1179.402243                            887.00   \n",
       "\n",
       "       Thickness  Thickness profile  ...    P   S   Al  M_Al  B   N  Ti    Cr  \\\n",
       "0        4.35100          44.337225  ...  133  11  326   319  3  62  29  3469   \n",
       "1        3.74800          56.353765  ...  142  76  309   291  1  51   9   145   \n",
       "2        3.00950          48.505748  ...  190  66  343   332  1  39  11   176   \n",
       "3        3.01300          38.305057  ...  136  56  322   283  1  57  14   209   \n",
       "4        3.01300          36.405860  ...  136  56  322   283  1  57  14   209   \n",
       "...          ...                ...  ...  ...  ..  ...   ... ..  ..  ..   ...   \n",
       "25298    2.19975          29.012289  ...  232  33  323   312  2  44  20   208   \n",
       "25299    2.00050          26.631035  ...  154  79  267   251  1  35  12   169   \n",
       "25300    2.50900          34.303870  ...  140  46  331   319  1  38   9   155   \n",
       "25301    2.24750          27.411123  ...  236  31  309   296  2  53  21   251   \n",
       "25302    4.51375          29.880353  ...  149  22  385   372  2  47  31   179   \n",
       "\n",
       "        V  Mo  \n",
       "0      10  18  \n",
       "1       1  15  \n",
       "2       0  11  \n",
       "3       0  10  \n",
       "4       0  10  \n",
       "...    ..  ..  \n",
       "25298  19  21  \n",
       "25299   8  12  \n",
       "25300   2  10  \n",
       "25301  28  18  \n",
       "25302  13  15  \n",
       "\n",
       "[25303 rows x 24 columns]"
      ]
     },
     "execution_count": 51,
     "metadata": {},
     "output_type": "execute_result"
    }
   ],
   "source": [
    "coilData_pandas = pd.read_excel('CoilDataInput.xlsx') \n",
    "coilData_pandas"
   ]
  },
  {
   "cell_type": "code",
   "execution_count": null,
   "metadata": {},
   "outputs": [
    {
     "data": {
      "text/plain": [
       "Index(['coil', 'furnace Number', 'analyse', 'Hardness_1', 'Hardness_2',\n",
       "       'Width', 'Temperature before finishing mill',\n",
       "       'Temperature after finishing mill', 'Thickness', 'Thickness profile',\n",
       "       'C', 'Mn', 'Si', 'Nb', 'P', 'S', 'Al', 'M_Al', 'B', 'N', 'Ti', 'Cr',\n",
       "       'V', 'Mo'],\n",
       "      dtype='object')"
      ]
     },
     "execution_count": 52,
     "metadata": {},
     "output_type": "execute_result"
    }
   ],
   "source": [
    "coilData_pandas.columns"
   ]
  },
  {
   "cell_type": "code",
   "execution_count": null,
   "metadata": {},
   "outputs": [],
   "source": [
    "# conver pandas dataframe to spark dataframe\n",
    "coilData_pyspark = spark.createDataFrame(coilData_pandas)"
   ]
  },
  {
   "cell_type": "code",
   "execution_count": null,
   "metadata": {},
   "outputs": [
    {
     "name": "stdout",
     "output_type": "stream",
     "text": [
      "root\n",
      " |-- coil: long (nullable = true)\n",
      " |-- furnace Number: long (nullable = true)\n",
      " |-- analyse: string (nullable = true)\n",
      " |-- Hardness_1: long (nullable = true)\n",
      " |-- Hardness_2: long (nullable = true)\n",
      " |-- Width: double (nullable = true)\n",
      " |-- Temperature before finishing mill: double (nullable = true)\n",
      " |-- Temperature after finishing mill: double (nullable = true)\n",
      " |-- Thickness: double (nullable = true)\n",
      " |-- Thickness profile: double (nullable = true)\n",
      " |-- C: long (nullable = true)\n",
      " |-- Mn: long (nullable = true)\n",
      " |-- Si: long (nullable = true)\n",
      " |-- Nb: long (nullable = true)\n",
      " |-- P: long (nullable = true)\n",
      " |-- S: long (nullable = true)\n",
      " |-- Al: long (nullable = true)\n",
      " |-- M_Al: long (nullable = true)\n",
      " |-- B: long (nullable = true)\n",
      " |-- N: long (nullable = true)\n",
      " |-- Ti: long (nullable = true)\n",
      " |-- Cr: long (nullable = true)\n",
      " |-- V: long (nullable = true)\n",
      " |-- Mo: long (nullable = true)\n",
      "\n"
     ]
    }
   ],
   "source": [
    "coilData_pyspark.printSchema()"
   ]
  },
  {
   "cell_type": "code",
   "execution_count": null,
   "metadata": {},
   "outputs": [],
   "source": [
    "from pyspark.sql.functions import col\n",
    "from pyspark.sql.types import StringType\n",
    "\n",
    "# change datatype to integer\n",
    "coilData_pyspark = coilData_pyspark.select([col(column).cast('integer') for column in coilData_pyspark.columns])"
   ]
  },
  {
   "cell_type": "code",
   "execution_count": null,
   "metadata": {},
   "outputs": [
    {
     "name": "stdout",
     "output_type": "stream",
     "text": [
      "root\n",
      " |-- coil: integer (nullable = true)\n",
      " |-- furnace Number: integer (nullable = true)\n",
      " |-- analyse: integer (nullable = true)\n",
      " |-- Hardness_1: integer (nullable = true)\n",
      " |-- Hardness_2: integer (nullable = true)\n",
      " |-- Width: integer (nullable = true)\n",
      " |-- Temperature before finishing mill: integer (nullable = true)\n",
      " |-- Temperature after finishing mill: integer (nullable = true)\n",
      " |-- Thickness: integer (nullable = true)\n",
      " |-- Thickness profile: integer (nullable = true)\n",
      " |-- C: integer (nullable = true)\n",
      " |-- Mn: integer (nullable = true)\n",
      " |-- Si: integer (nullable = true)\n",
      " |-- Nb: integer (nullable = true)\n",
      " |-- P: integer (nullable = true)\n",
      " |-- S: integer (nullable = true)\n",
      " |-- Al: integer (nullable = true)\n",
      " |-- M_Al: integer (nullable = true)\n",
      " |-- B: integer (nullable = true)\n",
      " |-- N: integer (nullable = true)\n",
      " |-- Ti: integer (nullable = true)\n",
      " |-- Cr: integer (nullable = true)\n",
      " |-- V: integer (nullable = true)\n",
      " |-- Mo: integer (nullable = true)\n",
      "\n"
     ]
    }
   ],
   "source": [
    "coilData_pyspark.printSchema()"
   ]
  },
  {
   "cell_type": "code",
   "execution_count": null,
   "metadata": {},
   "outputs": [],
   "source": [
    "\n",
    "coilData_pyspark1 = coilData_pyspark \\\n",
    ".withColumn('analyse',col('analyse').cast('string')) \\\n",
    ".withColumn('Temperature after finishing mill',col('Temperature after finishing mill').cast('float')) \\\n",
    ".withColumn('Width',col('Width').cast('float')) \\\n",
    ".withColumn('Thickness',col('Thickness').cast('float')) \\\n",
    ".withColumn('Thickness profile',col('Thickness profile').cast('float')) \\\n"
   ]
  },
  {
   "cell_type": "code",
   "execution_count": null,
   "metadata": {},
   "outputs": [
    {
     "name": "stdout",
     "output_type": "stream",
     "text": [
      "root\n",
      " |-- coil: integer (nullable = true)\n",
      " |-- furnace Number: integer (nullable = true)\n",
      " |-- analyse: string (nullable = true)\n",
      " |-- Hardness_1: integer (nullable = true)\n",
      " |-- Hardness_2: integer (nullable = true)\n",
      " |-- Width: float (nullable = true)\n",
      " |-- Temperature before finishing mill: integer (nullable = true)\n",
      " |-- Temperature after finishing mill: float (nullable = true)\n",
      " |-- Thickness: float (nullable = true)\n",
      " |-- Thickness profile: float (nullable = true)\n",
      " |-- C: integer (nullable = true)\n",
      " |-- Mn: integer (nullable = true)\n",
      " |-- Si: integer (nullable = true)\n",
      " |-- Nb: integer (nullable = true)\n",
      " |-- P: integer (nullable = true)\n",
      " |-- S: integer (nullable = true)\n",
      " |-- Al: integer (nullable = true)\n",
      " |-- M_Al: integer (nullable = true)\n",
      " |-- B: integer (nullable = true)\n",
      " |-- N: integer (nullable = true)\n",
      " |-- Ti: integer (nullable = true)\n",
      " |-- Cr: integer (nullable = true)\n",
      " |-- V: integer (nullable = true)\n",
      " |-- Mo: integer (nullable = true)\n",
      "\n"
     ]
    }
   ],
   "source": [
    "coilData_pyspark1.printSchema()"
   ]
  },
  {
   "cell_type": "code",
   "execution_count": null,
   "metadata": {},
   "outputs": [
    {
     "name": "stdout",
     "output_type": "stream",
     "text": [
      "+------+--------------+-------+----------+----------+------+--------------------------+-------------------------+---------+-----------------+----+-----+----+---+---+---+---+----+---+---+---+----+---+---+\n",
      "|  coil|furnace_Number|analyse|Hardness_1|Hardness_2| Width|Temp_before_finishing_mill|Temp_after_finishing_mill|Thickness|Thickness_profile|   C|   Mn|  Si| Nb|  P|  S| Al|M_Al|  B|  N| Ti|  Cr|  V| Mo|\n",
      "+------+--------------+-------+----------+----------+------+--------------------------+-------------------------+---------+-----------------+----+-----+----+---+---+---+---+----+---+---+---+----+---+---+\n",
      "|283642|             4|   null|     12157|       122|1731.0|                         0|                    906.0|      4.0|             44.0| 849|15470|2925| 11|133| 11|326| 319|  3| 62| 29|3469| 10| 18|\n",
      "|283643|             1|   null|     11888|       124|1602.0|                         0|                    887.0|      3.0|             56.0| 704| 5340|  83|344|142| 76|309| 291|  1| 51|  9| 145|  1| 15|\n",
      "|283644|             4|   null|     12419|       129|1637.0|                         0|                    878.0|      3.0|             48.0| 698| 6996|  87|413|190| 66|343| 332|  1| 39| 11| 176|  0| 11|\n",
      "|283645|             1|   null|     11106|       116|1697.0|                         0|                    869.0|      3.0|             38.0| 657| 2316|  94|187|136| 56|322| 283|  1| 57| 14| 209|  0| 10|\n",
      "|283646|             4|   null|     11106|       116|1693.0|                         0|                    878.0|      3.0|             36.0| 657| 2316|  94|187|136| 56|322| 283|  1| 57| 14| 209|  0| 10|\n",
      "|283647|             1|   null|     11046|       115|1696.0|                         0|                    881.0|      3.0|             34.0| 657| 2256| 110|173|132| 56|303| 291|  1| 56| 13| 210|  0| 10|\n",
      "|283649|             1|   null|     10636|       111|1449.0|                         0|                    899.0|      4.0|             45.0| 378| 2311|  73|111|156|128|334| 322|  1| 44|  8| 219|  0| 19|\n",
      "|283650|             4|   null|     11869|       124|1458.0|                         0|                    892.0|      5.0|             45.0| 688| 5431|  88|346|139| 62|297| 288|  1| 55|  9| 136| 13| 13|\n",
      "|283651|             1|   null|     11157|       117|1492.0|                         0|                    898.0|      5.0|             33.0| 668| 2295|  80|167|158| 88|328| 318|  1| 41| 13| 223|  0| 21|\n",
      "|283652|             4|   null|     11768|       123|1527.0|                         0|                    865.0|      7.0|             30.0| 735| 5192|  83|267|156| 81|412| 399|  1| 44| 14| 294|  0| 24|\n",
      "|283653|             1|   null|     11383|       119|1555.0|                         0|                    901.0|      5.0|             15.0|1653| 7599| 131|  0|195| 45|384| 356|  1| 37| 13| 207|  5| 23|\n",
      "|283654|             4|   null|     11363|       119|1555.0|                         0|                    890.0|      5.0|             18.0|1653| 7566| 137|  0|190| 45|365| 351|  1| 45| 13| 210|  6| 24|\n",
      "|283655|             1|   null|     10977|       110|1563.0|                         0|                    908.0|      4.0|             20.0| 416|10470|1032|  9|136| 32|410| 395|  1| 46| 12|3818|  0| 14|\n",
      "|283656|             4|   null|     11426|       119|1544.0|                         0|                    900.0|      4.0|             39.0| 631| 3482|  92|268|143| 87|429| 412|  1| 39| 12| 149|  0|  4|\n",
      "|283657|             1|   null|     11698|       122|1542.0|                         0|                    902.0|      4.0|             41.0| 699| 5339|  73|262|150|108|297| 286|  1| 56| 12| 305|  0| 14|\n",
      "|283658|             4|   null|     11699|       122|1543.0|                         0|                    900.0|      4.0|             39.0| 687| 5371|  72|272|147| 93|316| 305|  1| 41| 10| 264|  0| 12|\n",
      "|283659|             1|   null|     11074|       115|1542.0|                         0|                    902.0|      3.0|             34.0| 655| 2415| 154|174|135| 74|386| 376|  1| 35| 15| 289|  0| 22|\n",
      "|283660|             4|   null|     11383|       119|1495.0|                         0|                    904.0|      3.0|             31.0|1653| 7599| 131|  0|195| 45|384| 356|  1| 37| 13| 207|  5| 23|\n",
      "|283661|             1|   null|     11675|       117|1474.0|                         0|                    902.0|      2.0|             41.0| 753| 9480|1132|  7|356| 31|299| 283|  3| 46| 25|5480|  0| 13|\n",
      "|283662|             4|   null|     11337|       118|1527.0|                         0|                    875.0|      2.0|             43.0| 657| 3523| 106|273|110| 56|447| 435|  1| 36| 12| 166|  0|  8|\n",
      "+------+--------------+-------+----------+----------+------+--------------------------+-------------------------+---------+-----------------+----+-----+----+---+---+---+---+----+---+---+---+----+---+---+\n",
      "only showing top 20 rows\n",
      "\n"
     ]
    }
   ],
   "source": [
    "coilData_pyspark2 = coilData_pyspark1.withColumnRenamed('furnace Number', 'furnace_Number')\n",
    "coilData_pyspark2 = coilData_pyspark2.withColumnRenamed('Temperature before finishing mill', 'Temp_before_finishing_mill')\n",
    "coilData_pyspark2 = coilData_pyspark2.withColumnRenamed('Temperature after finishing mill', 'Temp_after_finishing_mill')\n",
    "coilData_pyspark2 = coilData_pyspark2.withColumnRenamed('Thickness profile', 'Thickness_profile')\n",
    "coilData_pyspark2.show()"
   ]
  },
  {
   "cell_type": "code",
   "execution_count": null,
   "metadata": {},
   "outputs": [],
   "source": [
    "## write dataframe coilData to database\n",
    "url = \"jdbc:sqlite:B345.db\"\n",
    "coilData_pyspark2.write.jdbc(url=url, driver='org.sqlite.JDBC', table='coilData')\n",
    "\n",
    "# write to csv\n",
    "# coilData_pyspark2.write.csv('coilData', header=True)"
   ]
  }
 ],
 "metadata": {
  "kernelspec": {
   "display_name": "Python 3.9.12 ('base')",
   "language": "python",
   "name": "python3"
  },
  "language_info": {
   "codemirror_mode": {
    "name": "ipython",
    "version": 3
   },
   "file_extension": ".py",
   "mimetype": "text/x-python",
   "name": "python",
   "nbconvert_exporter": "python",
   "pygments_lexer": "ipython3",
   "version": "3.9.12"
  },
  "orig_nbformat": 4,
  "vscode": {
   "interpreter": {
    "hash": "4c5fecb72096018fff2bef66cc69bd0e3a5732631898296c325d9ee69525bccd"
   }
  }
 },
 "nbformat": 4,
 "nbformat_minor": 2
}
