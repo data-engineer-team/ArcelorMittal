{
 "cells": [
  {
   "cell_type": "code",
   "execution_count": null,
   "metadata": {},
   "outputs": [],
   "source": []
  }
 ],
 "metadata": {
  "kernelspec": {
   "display_name": "Python 3.9.12 ('env': venv)",
   "language": "python",
   "name": "python3"
  },
  "language_info": {
   "name": "python",
   "version": "3.9.12"
  },
  "orig_nbformat": 4,
  "vscode": {
   "interpreter": {
    "hash": "37ef03efbf6cab7762efefc7418f8ead2fc0e66d0d8bef58942a5036cc48216f"
   }
  }
 },
 "nbformat": 4,
 "nbformat_minor": 2
}
