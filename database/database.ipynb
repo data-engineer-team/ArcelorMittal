{
 "cells": [
  {
   "cell_type": "code",
   "execution_count": 4,
   "metadata": {},
   "outputs": [],
   "source": [
    "import sqlite3\n",
    "import os\n",
    "import pandas as pd"
   ]
  },
  {
   "cell_type": "markdown",
   "metadata": {},
   "source": [
    "## Create each tables"
   ]
  },
  {
   "cell_type": "code",
   "execution_count": 5,
   "metadata": {},
   "outputs": [],
   "source": [
    "# connection and cursor\n",
    "connexion = sqlite3.connect(\"Database.db\")\n",
    "cursor = connexion.cursor()\n"
   ]
  },
  {
   "cell_type": "code",
   "execution_count": 3,
   "metadata": {},
   "outputs": [
    {
     "name": "stdout",
     "output_type": "stream",
     "text": [
      "table1 created\n",
      "table2 created\n",
      "table3 created\n"
     ]
    }
   ],
   "source": [
    "# create tables\n",
    "cursor.execute('''\n",
    "        CREATE TABLE IF NOT EXISTS B3_table\n",
    "        (coilId INTEGER PRIMARY KEY ,\n",
    "        lengthCoordinate FLOAT,\n",
    "        B3 FLOAT)\n",
    "        ''')\n",
    "print(\"table1 created\")\n",
    "connexion.commit()\n",
    "\n",
    "cursor.execute('''\n",
    "        CREATE TABLE IF NOT EXISTS B4_table\n",
    "        (coilId  INTEGER PRIMARY KEY ,\n",
    "        lengthCoordinate FLOAT,\n",
    "        B4 FLOAT)\n",
    "        ''')\n",
    "print(\"table2 created\")\n",
    "connexion.commit()\n",
    "\n",
    "cursor.execute('''\n",
    "        CREATE TABLE IF NOT EXISTS B5_table\n",
    "        (coilId INTEGER PRIMARY KEY,\n",
    "        lengthCoordinate FLOAT,\n",
    "        B5 FLOAT)\n",
    "        ''')\n",
    "print(\"table3 created\")\n",
    "connexion.commit()"
   ]
  },
  {
   "cell_type": "code",
   "execution_count": 4,
   "metadata": {},
   "outputs": [
    {
     "name": "stdout",
     "output_type": "stream",
     "text": [
      "Coil_Information created\n"
     ]
    }
   ],
   "source": [
    "cursor.execute('''\n",
    "        CREATE TABLE IF NOT EXISTS CoilDataInput\n",
    "        (coil INTEGER PRIMARY KEY,\n",
    "        furnace_Number INTEGER,\n",
    "        analyse STRING,\n",
    "        Hardness_1 INTEGER,\n",
    "        Hardness_2 INTEGER,\n",
    "        Width FLOAT,\n",
    "        Temp_before_finishing_mill INTEGER,\n",
    "        Temp_after_finishing_mill FLOAT,\n",
    "        Thickness FLOAT,\n",
    "        Thickness_profile FLOAT,\n",
    "        C INTEGER,\n",
    "        Si INTEGER,\n",
    "        Mn INTEGER,\n",
    "        Nb INTEGER,\n",
    "        P INTEGER,\n",
    "        S INTEGER,\n",
    "        Al INTEGER,\n",
    "        M_Al INTEGER,\n",
    "        B INTEGER,\n",
    "        N INTEGER,\n",
    "        Ti INTEGER,\n",
    "        Cr INTEGER,\n",
    "        V INTEGER,\n",
    "        Mo INTEGER)\n",
    "        ''')\n",
    "print(\"Coil_Information created\")\n",
    "connexion.commit()\n"
   ]
  },
  {
   "cell_type": "markdown",
   "metadata": {},
   "source": [
    "## Import CSV file of each tables"
   ]
  },
  {
   "cell_type": "code",
   "execution_count": null,
   "metadata": {},
   "outputs": [],
   "source": [
    "import csv\n",
    "\n",
    "\n",
    "file = open('B3.csv', 'r')\n",
    "reader_B4 = csv.reader(file)\n",
    "for row in reader_B4:\n",
    "    cursor.execute('''\n",
    "        INSERT INTO B3_table(coilId , lengthCoordinate, B3)\n",
    "        VALUES(?,?,?)\n",
    "        ''', row)\n",
    "connexion.commit()\n",
    "\n"
   ]
  },
  {
   "cell_type": "code",
   "execution_count": 9,
   "metadata": {},
   "outputs": [],
   "source": [
    "file = open('B4.csv', 'r')\n",
    "reader_B4 = csv.reader(file)\n",
    "for row in reader_B4:\n",
    "    cursor.execute('''\n",
    "        INSERT INTO Table_B4(_FileId, lengthCoordinate, B4)\n",
    "        VALUES(?,?,?)\n",
    "        ''', row)\n",
    "connexion.commit()"
   ]
  },
  {
   "cell_type": "code",
   "execution_count": 10,
   "metadata": {},
   "outputs": [],
   "source": [
    "file = open('B5.csv', 'r')\n",
    "reader_B5 = csv.reader(file)\n",
    "for row in reader_B5:\n",
    "    cursor.execute('''\n",
    "        INSERT INTO Table_B5(_FileId, lengthCoordinate, B5)\n",
    "        VALUES(?,?,?)\n",
    "        ''', row)\n",
    "connexion.commit()"
   ]
  },
  {
   "cell_type": "code",
   "execution_count": null,
   "metadata": {},
   "outputs": [],
   "source": [
    "file = open('CoilDataInput.csv', 'r')\n",
    "reader_CoilDataInput = csv.reader(file)\n",
    "for row in reader_B5:\n",
    "    cursor.execute('''\n",
    "        INSERT INTO Table_B5(_FileId, lengthCoordinate, B5)\n",
    "        VALUES(?,?,?)\n",
    "        ''', row)\n",
    "connexion.commit()"
   ]
  },
  {
   "cell_type": "markdown",
   "metadata": {},
   "source": [
    "## Test queries"
   ]
  },
  {
   "cell_type": "code",
   "execution_count": null,
   "metadata": {},
   "outputs": [],
   "source": [
    "cursor.execute('''\n",
    "        SELECT * FROM CoilDataInput\n",
    "        join B3_table on CoilDataInput.coilId = B3_table.coilId\n",
    "        LIMIT 2\n",
    "        ''')\n",
    "cursor.fetchall()"
   ]
  },
  {
   "cell_type": "code",
   "execution_count": 17,
   "metadata": {},
   "outputs": [
    {
     "data": {
      "text/plain": [
       "[('real',)]"
      ]
     },
     "execution_count": 17,
     "metadata": {},
     "output_type": "execute_result"
    }
   ],
   "source": [
    "cursor.execute('''\n",
    "        SELECT typeof(Temperaturebeforefinishingmill) FROM CoilDataInput\n",
    "        LIMIT 1\n",
    "''')\n",
    "\n",
    "cursor.fetchall()"
   ]
  },
  {
   "cell_type": "code",
   "execution_count": null,
   "metadata": {},
   "outputs": [],
   "source": [
    "cursor.close()"
   ]
  }
 ],
 "metadata": {
  "kernelspec": {
   "display_name": "Python 3.9.12 ('base')",
   "language": "python",
   "name": "python3"
  },
  "language_info": {
   "codemirror_mode": {
    "name": "ipython",
    "version": 3
   },
   "file_extension": ".py",
   "mimetype": "text/x-python",
   "name": "python",
   "nbconvert_exporter": "python",
   "pygments_lexer": "ipython3",
   "version": "3.9.12"
  },
  "orig_nbformat": 4,
  "vscode": {
   "interpreter": {
    "hash": "4c5fecb72096018fff2bef66cc69bd0e3a5732631898296c325d9ee69525bccd"
   }
  }
 },
 "nbformat": 4,
 "nbformat_minor": 2
}
