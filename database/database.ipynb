{
 "cells": [
  {
   "cell_type": "code",
   "execution_count": 5,
   "metadata": {},
   "outputs": [],
   "source": [
    "from sqlalchemy import create_engine\n",
    "import datetime as dt\n",
    "from sqlalchemy import Column, Integer, Float, Date\n",
    "from sqlalchemy.ext.declarative import declarative_base\n",
    "from sqlalchemy import create_engine\n",
    "from sqlalchemy.orm import sessionmaker, registry\n",
    "from numpy import genfromtxt"
   ]
  },
  {
   "cell_type": "code",
   "execution_count": 3,
   "metadata": {},
   "outputs": [],
   "source": [
    "import pandas as pd\n",
    "\n",
    "\n",
    "Base = declarative_base()\n",
    "class B3_4_5(Base):\n",
    "    __tablename__ = 'B3_4_5'\n",
    "    id = Column(Integer, primary_key=True)\n",
    "    lengthCoordinate = Column(Float)\n",
    "    B3 = Column(Integer)\n",
    "    B4 = Column(Integer)\n",
    "    B5 = Column(Integer)\n",
    "\n",
    "engine = create_engine('sqlite:///database.db', pool_recycle=3600, echo=True)\n",
    "mapper_registry = registry()\n",
    "Base = mapper_registry.generate_base()\n",
    "Session = sessionmaker(bind=engine)\n",
    "session = Session()\n",
    "Base.metadata.create_all(engine)\n",
    "\n",
    "def load_data():\n",
    "    data = pd.read_csv('data.csv', delimiter=',')\n",
    "    return data\n",
    "\n",
    "try:\n",
    "    csv_file = \"data.csv\"\n",
    "    data = load_data\n",
    "\n",
    "    for i in data:\n",
    "        record = B3_4_5(**{\n",
    "            'lengthCoordinate': i[0],\n",
    "            'B3': i[1],\n",
    "            'B4': i[2],\n",
    "            'B5': i[3]\n",
    "\n",
    "        })\n",
    "        session.add(record)\n",
    "    session.commit()\n",
    "\n",
    "except:\n",
    "    session.rollback()\n",
    "    \n",
    "finally:\n",
    "    session.close()\n",
    "\n",
    "    "
   ]
  }
 ],
 "metadata": {
  "kernelspec": {
   "display_name": "Python 3.9.12 ('env': venv)",
   "language": "python",
   "name": "python3"
  },
  "language_info": {
   "codemirror_mode": {
    "name": "ipython",
    "version": 3
   },
   "file_extension": ".py",
   "mimetype": "text/x-python",
   "name": "python",
   "nbconvert_exporter": "python",
   "pygments_lexer": "ipython3",
   "version": "3.9.12"
  },
  "orig_nbformat": 4,
  "vscode": {
   "interpreter": {
    "hash": "37ef03efbf6cab7762efefc7418f8ead2fc0e66d0d8bef58942a5036cc48216f"
   }
  }
 },
 "nbformat": 4,
 "nbformat_minor": 2
}
