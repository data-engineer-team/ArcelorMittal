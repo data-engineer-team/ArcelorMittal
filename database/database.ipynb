{
 "cells": [
  {
   "cell_type": "code",
   "execution_count": 5,
   "metadata": {},
   "outputs": [],
   "source": [
    "from sqlalchemy import create_engine\n",
    "import datetime as dt\n",
    "from sqlalchemy import Column, Integer, Float, Date\n",
    "from sqlalchemy.ext.declarative import declarative_base\n",
    "from sqlalchemy import create_engine\n",
    "from sqlalchemy.orm import sessionmaker, registry\n",
    "import pandas as pd"
   ]
  },
  {
   "cell_type": "markdown",
   "metadata": {},
   "source": [
    "## create database with sqlalchemy"
   ]
  },
  {
   "cell_type": "code",
   "execution_count": 3,
   "metadata": {},
   "outputs": [],
   "source": [
    "Base = declarative_base()\n",
    "class B3_4_5(Base):\n",
    "    __tablename__ = 'B3_4_5'\n",
    "    id = Column(Integer, primary_key=True)\n",
    "    lengthCoordinate = Column(Float)\n",
    "    B3 = Column(Integer)\n",
    "    B4 = Column(Integer)\n",
    "    B5 = Column(Integer)\n",
    "\n",
    "engine = create_engine('sqlite:///database.db', pool_recycle=3600, echo=True)\n",
    "mapper_registry = registry()\n",
    "Base = mapper_registry.generate_base()\n",
    "Session = sessionmaker(bind=engine)\n",
    "session = Session()\n",
    "Base.metadata.create_all(engine)\n",
    "\n",
    "def load_data():\n",
    "    data = pd.read_csv('data.csv', delimiter=',')\n",
    "    return data\n",
    "\n",
    "try:\n",
    "    csv_file = \"data.csv\"\n",
    "    data = load_data\n",
    "\n",
    "    for i in data:\n",
    "        record = B3_4_5(**{\n",
    "            'lengthCoordinate': i[0],\n",
    "            'B3': i[1],\n",
    "            'B4': i[2],\n",
    "            'B5': i[3]\n",
    "\n",
    "        })\n",
    "        session.add(record)\n",
    "    session.commit()\n",
    "\n",
    "except:\n",
    "    session.rollback()\n",
    "    \n",
    "finally:\n",
    "    session.close()\n",
    "\n",
    "    "
   ]
  },
  {
   "cell_type": "markdown",
   "metadata": {},
   "source": [
    "## create database with sqlite"
   ]
  },
  {
   "cell_type": "code",
   "execution_count": null,
   "metadata": {},
   "outputs": [],
   "source": [
    "import sqlite3\n",
    "import os\n",
    "import pandas as pd"
   ]
  },
  {
   "cell_type": "code",
   "execution_count": null,
   "metadata": {},
   "outputs": [],
   "source": [
    "import csv\n",
    "\n",
    "\n",
    "connexion = sqlite3.connect(\"database.db\")\n",
    "cursor = connexion.cursor()\n",
    "\n",
    "def create_database(cursor, connexion):\n",
    "    cursor.execute('''\n",
    "        CREATE TABLE IF NOT EXISTS B3_4_5\n",
    "        (id INTEGER PRIMARY KEY AUTOINCREMENT UNIQUE,\n",
    "        lengthCoordinate FLOAT,\n",
    "        B3 INTEGER,\n",
    "        B4 INTEGER,\n",
    "        B5 INTEGER)\n",
    "        ''')\n",
    "    connexion.commit()\n",
    "\n",
    "def insert_data(cursor, connexion):\n",
    "    cursor.execute('''\n",
    "        CREATE UNIQUE INDEX IF NOT EXISTS \n",
    "        INDEX ON B3_4_5(lengthCoordinate)\n",
    "        ''')\n",
    "    connexion.commit()\n",
    "\n",
    "def process_file(cursor, connexion):\n",
    "    with open('data.csv', 'r') as file:\n",
    "        reader = csv.reader(file)\n",
    "        next(csv.reader(file), None)\n",
    "\n",
    "        for row in reader:\n",
    "            cursor.execute('''\n",
    "                INSERT OR IGNORE INTO B3_4_5(lengthCoordinate, B3, B4, B5)\n",
    "                VALUES(?, ?, ?, ?)\n",
    "                ''', (row[0], row[1], row[2], row[3]))\n",
    "            connexion.commit()\n",
    "\n",
    "if __name__ == '__main__':\n",
    "    create_database(cursor, connexion)\n",
    "    insert_data(cursor, connexion)\n",
    "    process_file(cursor, connexion)\n",
    "    connexion.close()\n",
    "    print('Done')"
   ]
  }
 ],
 "metadata": {
  "kernelspec": {
   "display_name": "Python 3.9.12 ('base')",
   "language": "python",
   "name": "python3"
  },
  "language_info": {
   "codemirror_mode": {
    "name": "ipython",
    "version": 3
   },
   "file_extension": ".py",
   "mimetype": "text/x-python",
   "name": "python",
   "nbconvert_exporter": "python",
   "pygments_lexer": "ipython3",
   "version": "3.9.12"
  },
  "orig_nbformat": 4,
  "vscode": {
   "interpreter": {
    "hash": "4c5fecb72096018fff2bef66cc69bd0e3a5732631898296c325d9ee69525bccd"
   }
  }
 },
 "nbformat": 4,
 "nbformat_minor": 2
}
