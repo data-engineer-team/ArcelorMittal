{
 "cells": [
  {
   "cell_type": "markdown",
   "metadata": {},
   "source": [
    "## create database with sqlite"
   ]
  },
  {
   "cell_type": "code",
   "execution_count": 35,
   "metadata": {},
   "outputs": [],
   "source": [
    "import sqlite3\n",
    "import os\n",
    "import pandas as pd"
   ]
  },
  {
   "cell_type": "markdown",
   "metadata": {},
   "source": [
    "## CREATE TABLE"
   ]
  },
  {
   "cell_type": "code",
   "execution_count": 51,
   "metadata": {},
   "outputs": [
    {
     "name": "stdout",
     "output_type": "stream",
     "text": [
      "database created\n"
     ]
    }
   ],
   "source": [
    "# define connection and cursor\n",
    "connexion = sqlite3.connect(\"database.db\")\n",
    "cursor = connexion.cursor()\n",
    "\n",
    "cursor.execute('''\n",
    "        CREATE TABLE IF NOT EXISTS test\n",
    "        ( \n",
    "        _FileId INTEGER,\n",
    "        _SegmentNr INTEGER,\n",
    "        Snelheid_HA FLOAT,\n",
    "        B5_Abs_Plaus_Time FLOAT,\n",
    "        B5_Time_Based FLOAT,\n",
    "        lengthCoordinate FLOAT,\n",
    "        B5 FLOAT)\n",
    "        ''')\n",
    "print(\"database created\")\n",
    "connexion.commit()\n"
   ]
  },
  {
   "cell_type": "markdown",
   "metadata": {},
   "source": [
    "## IMPORT CSV FILE"
   ]
  },
  {
   "cell_type": "code",
   "execution_count": 52,
   "metadata": {},
   "outputs": [],
   "source": [
    "import csv\n",
    "\n",
    "file = open('read_file.csv', 'r')\n",
    "reader = csv.reader(file)\n",
    "for row in reader:\n",
    "    cursor.execute('''\n",
    "        INSERT INTO test(_FileId, _SegmentNr, Snelheid_HA, B5_Abs_Plaus_Time, B5_Time_Based, lengthCoordinate, B5)\n",
    "        VALUES(?,?,?,?,?,?,?)\n",
    "        ''', row)\n",
    "connexion.commit()\n",
    "\n"
   ]
  },
  {
   "cell_type": "code",
   "execution_count": null,
   "metadata": {},
   "outputs": [],
   "source": [
    "cursor.execute('''\n",
    "        SELECT * FROM test\n",
    "        LIMIT 30\n",
    "        ''')\n",
    "cursor.fetchall()"
   ]
  }
 ],
 "metadata": {
  "kernelspec": {
   "display_name": "Python 3.9.12 ('base')",
   "language": "python",
   "name": "python3"
  },
  "language_info": {
   "codemirror_mode": {
    "name": "ipython",
    "version": 3
   },
   "file_extension": ".py",
   "mimetype": "text/x-python",
   "name": "python",
   "nbconvert_exporter": "python",
   "pygments_lexer": "ipython3",
   "version": "3.9.12"
  },
  "orig_nbformat": 4,
  "vscode": {
   "interpreter": {
    "hash": "4c5fecb72096018fff2bef66cc69bd0e3a5732631898296c325d9ee69525bccd"
   }
  }
 },
 "nbformat": 4,
 "nbformat_minor": 2
}
