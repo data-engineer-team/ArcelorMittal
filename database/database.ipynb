{
 "cells": [
  {
   "cell_type": "code",
   "execution_count": 1,
   "metadata": {},
   "outputs": [],
   "source": [
    "import sqlite3\n",
    "import os\n",
    "import pandas as pd"
   ]
  },
  {
   "cell_type": "markdown",
   "metadata": {},
   "source": [
    "## Create each tables"
   ]
  },
  {
   "cell_type": "code",
   "execution_count": 2,
   "metadata": {},
   "outputs": [
    {
     "name": "stdout",
     "output_type": "stream",
     "text": [
      "database created\n",
      "database created\n"
     ]
    }
   ],
   "source": [
    "# define connection and cursor\n",
    "connexion = sqlite3.connect(\"database_B345.db\")\n",
    "cursor = connexion.cursor()\n",
    "\n",
    "cursor.execute('''\n",
    "        CREATE TABLE IF NOT EXISTS Table_B34\n",
    "        (ID  INTEGER PRIMARY KEY AUTOINCREMENT,\n",
    "        _FileId INTEGER,\n",
    "        _SegmentNr INTEGER,\n",
    "        Snelheid_EW FLOAT,\n",
    "        B3_Time_Based FLOAT,\n",
    "        B3_Abs_Plaus_Time FLOAT,\n",
    "        B4_Time_Based FLOAT,\n",
    "        B4_Abs_Plaus_Time FLOAT,\n",
    "        lengthCoordinate FLOAT,\n",
    "        B3 FLOAT,\n",
    "        B4 FLOAT)\n",
    "        ''')\n",
    "print(\"database created\")\n",
    "connexion.commit()\n",
    "\n",
    "cursor.execute('''\n",
    "        CREATE TABLE IF NOT EXISTS Table_B5\n",
    "        (ID  INTEGER PRIMARY KEY AUTOINCREMENT,\n",
    "        _FileId INTEGER,\n",
    "        _SegmentNr INTEGER,\n",
    "        Snelheid_HA FLOAT,\n",
    "        lengthCoordinateB5 FLOAT,\n",
    "        B5 FLOAT,\n",
    "        B5_Abs_Plaus_Time FLOAT,\n",
    "        B5_Time_Based FLOAT\n",
    "        )\n",
    "        ''')\n",
    "print(\"database created\")\n",
    "connexion.commit()\n",
    "\n"
   ]
  },
  {
   "cell_type": "markdown",
   "metadata": {},
   "source": [
    "## Import CSV file of each tables"
   ]
  },
  {
   "cell_type": "code",
   "execution_count": 3,
   "metadata": {},
   "outputs": [],
   "source": [
    "import csv\n",
    "\n",
    "file = open('dataB34_test_10k_data.csv', 'r')\n",
    "reader_B34 = csv.reader(file)\n",
    "for row in reader_B34:\n",
    "    cursor.execute('''\n",
    "        INSERT INTO Table_B34(_FileId, _SegmentNr, Snelheid_EW, B3_Time_Based, B3_Abs_Plaus_Time, B4_Time_Based, B4_Abs_Plaus_Time, lengthCoordinate, B3, B4)\n",
    "        VALUES(?,?,?,?,?,?,?,?,?,?)\n",
    "        ''', row)\n",
    "connexion.commit()\n",
    "\n"
   ]
  },
  {
   "cell_type": "code",
   "execution_count": 4,
   "metadata": {},
   "outputs": [],
   "source": [
    "file = open('dataB5_test_10k_data.csv', 'r')\n",
    "reader_B5 = csv.reader(file)\n",
    "for row in reader_B5:\n",
    "    cursor.execute('''\n",
    "        INSERT INTO Table_B5(_FileId, _SegmentNr, Snelheid_HA, lengthCoordinateB5, B5, B5_Abs_Plaus_Time, B5_Time_Based)\n",
    "        VALUES(?,?,?,?,?,?,?)\n",
    "        ''', row)\n",
    "connexion.commit()"
   ]
  },
  {
   "cell_type": "code",
   "execution_count": null,
   "metadata": {},
   "outputs": [],
   "source": [
    "file = open('table2.csv', 'r')\n",
    "reader = csv.reader(file)\n",
    "for row in reader:\n",
    "    cursor.execute('''\n",
    "        INSERT INTO table3(_FileId, _SegmentNr, Snelheid_HA, B5_Abs_Plaus_Time, B5_Time_Based, lengthCoordinate, B5)\n",
    "        VALUES(?,?,?,?,?,?,?)\n",
    "        ''', row)\n",
    "connexion.commit()"
   ]
  },
  {
   "cell_type": "markdown",
   "metadata": {},
   "source": [
    "## Test table1, 2, 3"
   ]
  },
  {
   "cell_type": "code",
   "execution_count": 5,
   "metadata": {},
   "outputs": [
    {
     "data": {
      "text/plain": [
       "[(1,\n",
       "  '_FileId',\n",
       "  '_SegmentNr',\n",
       "  'Snelheid_EW',\n",
       "  'B3_Time_Based',\n",
       "  'B3_Abs_Plaus_Time',\n",
       "  'B4_Time_Based',\n",
       "  'B4_Abs_Plaus_Time',\n",
       "  'lengthCoordinate',\n",
       "  'B3',\n",
       "  'B4'),\n",
       " (2, 1651941735, 0, 6232.9, 0.0, 0.0, 0.0, 0.0, 0.249316, 0.0, 0.0),\n",
       " (3, 1651941735, 1, 6232.9, 0.0, 0.0, 0.0, 0.0, 0.249316, 0.0, 0.0),\n",
       " (4, 1651941735, 2, 6235.6, 0.0, 0.0, 0.0, 0.0, 0.498632, 0.0, 0.0),\n",
       " (5, 1651941735, 3, 6246.4, 0.0, 0.0, 0.0, 0.0, 0.748056, 0.0, 0.0),\n",
       " (6, 1651941735, 4, 6246.4, 0.0, 0.0, 0.0, 0.0, 0.997912, 0.0, 0.0),\n",
       " (7, 1651941735, 5, 6241.0, 0.0, 0.0, 0.0, 0.0, 1.247768, 0.0, 0.0),\n",
       " (8, 1651941735, 6, 6235.6, 0.0, 0.0, 0.0, 0.0, 1.497408, 0.0, 0.0),\n",
       " (9, 1651941735, 7, 6230.2, 0.0, 0.0, 0.0, 0.0, 1.7468320000000002, 0.0, 0.0),\n",
       " (10, 1651941735, 8, 6243.7, 0.0, 0.0, 0.0, 0.0, 1.9960400000000005, 0.0, 0.0),\n",
       " (11, 1651941735, 9, 6243.7, 0.0, 0.0, 0.0, 0.0, 2.245788, 0.0, 0.0),\n",
       " (12, 1651941735, 10, 6235.6, 0.0, 0.0, 0.0, 0.0, 2.495536, 0.0, 0.0),\n",
       " (13, 1651941735, 11, 6232.9, 0.0, 0.0, 0.0, 0.0, 2.74496, 0.0, 0.0),\n",
       " (14, 1651941735, 12, 6243.7, 0.0, 0.0, 0.0, 0.0, 2.994276, 0.0, 0.0),\n",
       " (15, 1651941735, 13, 6251.8, 0.0, 0.0, 0.0, 0.0, 3.244024, 0.0, 0.0),\n",
       " (16, 1651941735, 14, 6243.7, 0.0, 0.0, 0.0, 0.0, 3.494095999999999, 0.0, 0.0),\n",
       " (17,\n",
       "  1651941735,\n",
       "  15,\n",
       "  6241.0,\n",
       "  0.0,\n",
       "  0.0,\n",
       "  0.0,\n",
       "  0.0,\n",
       "  3.7438439999999993,\n",
       "  0.0,\n",
       "  0.0),\n",
       " (18, 1651941735, 16, 6235.6, 0.0, 0.0, 0.0, 0.0, 3.993483999999999, 0.0, 0.0),\n",
       " (19, 1651941735, 17, 6241.0, 0.0, 0.0, 0.0, 0.0, 4.242907999999999, 0.0, 0.0),\n",
       " (20, 1651941735, 18, 6235.6, 0.0, 0.0, 0.0, 0.0, 4.492547999999999, 0.0, 0.0),\n",
       " (21, 1651941735, 19, 6241.0, 0.0, 0.0, 0.0, 0.0, 4.741972, 0.0, 0.0),\n",
       " (22, 1651941735, 20, 6241.0, 0.0, 0.0, 0.0, 0.0, 4.991612, 0.0, 0.0),\n",
       " (23, 1651941735, 21, 6241.0, 0.0, 0.0, 0.0, 0.0, 5.241252, 0.0, 0.0),\n",
       " (24,\n",
       "  1651941735,\n",
       "  22,\n",
       "  6249.1,\n",
       "  0.0,\n",
       "  0.0,\n",
       "  0.0,\n",
       "  0.0,\n",
       "  5.4908920000000006,\n",
       "  0.0,\n",
       "  0.0),\n",
       " (25, 1651941735, 23, 6243.7, 0.0, 0.0, 0.0, 0.0, 5.740856000000001, 0.0, 0.0),\n",
       " (26, 1651941735, 24, 6246.4, 0.0, 0.0, 0.0, 0.0, 5.990604000000001, 0.0, 0.0),\n",
       " (27,\n",
       "  1651941735,\n",
       "  25,\n",
       "  6246.4,\n",
       "  0.0,\n",
       "  0.0,\n",
       "  0.0,\n",
       "  0.0,\n",
       "  6.2404600000000015,\n",
       "  0.0,\n",
       "  0.0),\n",
       " (28, 1651941735, 26, 6246.4, 0.0, 0.0, 0.0, 0.0, 6.490316000000002, 0.0, 0.0),\n",
       " (29, 1651941735, 27, 6227.5, 0.0, 0.0, 0.0, 0.0, 6.740172000000002, 0.0, 0.0),\n",
       " (30, 1651941735, 28, 6092.4, 0.0, 0.0, 0.0, 0.0, 6.989272000000002, 0.0, 0.0)]"
      ]
     },
     "execution_count": 5,
     "metadata": {},
     "output_type": "execute_result"
    }
   ],
   "source": [
    "cursor.execute('''\n",
    "        SELECT * FROM Table_B34\n",
    "        LIMIT 30\n",
    "        ''')\n",
    "cursor.fetchall()"
   ]
  }
 ],
 "metadata": {
  "kernelspec": {
   "display_name": "Python 3.9.12 ('base')",
   "language": "python",
   "name": "python3"
  },
  "language_info": {
   "codemirror_mode": {
    "name": "ipython",
    "version": 3
   },
   "file_extension": ".py",
   "mimetype": "text/x-python",
   "name": "python",
   "nbconvert_exporter": "python",
   "pygments_lexer": "ipython3",
   "version": "3.9.12"
  },
  "orig_nbformat": 4,
  "vscode": {
   "interpreter": {
    "hash": "4c5fecb72096018fff2bef66cc69bd0e3a5732631898296c325d9ee69525bccd"
   }
  }
 },
 "nbformat": 4,
 "nbformat_minor": 2
}
