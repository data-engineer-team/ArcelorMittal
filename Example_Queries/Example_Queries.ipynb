{
 "cells": [
  {
   "cell_type": "markdown",
   "metadata": {},
   "source": [
    "## Import Libraries"
   ]
  },
  {
   "cell_type": "code",
   "execution_count": 1,
   "metadata": {},
   "outputs": [],
   "source": [
    "import sqlite3\n",
    "import os\n",
    "import pandas as pd"
   ]
  },
  {
   "cell_type": "markdown",
   "metadata": {},
   "source": [
    "## Connect to the Database"
   ]
  },
  {
   "cell_type": "code",
   "execution_count": 2,
   "metadata": {},
   "outputs": [],
   "source": [
    "connect = sqlite3.connect('../../Database.db')   ###The database directory goes ('here')\n",
    "cursor = connect.cursor()"
   ]
  },
  {
   "cell_type": "markdown",
   "metadata": {},
   "source": [
    "## Select from a Table"
   ]
  },
  {
   "cell_type": "code",
   "execution_count": 20,
   "metadata": {},
   "outputs": [
    {
     "data": {
      "text/plain": [
       "[(283804, 0.0, 0.0)]"
      ]
     },
     "execution_count": 20,
     "metadata": {},
     "output_type": "execute_result"
    }
   ],
   "source": [
    "query1 = \"\"\"\n",
    "        SELECT * \n",
    "        FROM B3_table\n",
    "        LIMIT 1\n",
    "        \"\"\"\n",
    "\n",
    "cursor.execute(query1)\n",
    "cursor.fetchall()"
   ]
  },
  {
   "cell_type": "code",
   "execution_count": 40,
   "metadata": {},
   "outputs": [
    {
     "name": "stdout",
     "output_type": "stream",
     "text": [
      "length-coordinate for segment 0 = 0.0\n",
      "length-coordinate for segment 1 = 0.274124\n",
      "length-coordinate for segment 2 = 0.5479120000000001\n",
      "length-coordinate for segment 3 = 0.8218120000000001\n",
      "length-coordinate for segment 4 = 1.095936\n",
      "length-coordinate for segment 5 = 1.370284\n",
      "length-coordinate for segment 6 = 1.644856\n",
      "length-coordinate for segment 7 = 1.919092\n",
      "length-coordinate for segment 8 = 2.193216\n",
      "length-coordinate for segment 9 = 2.46678\n"
     ]
    }
   ],
   "source": [
    "query2 = \"\"\"\n",
    "        SELECT *\n",
    "        FROM B4_table\n",
    "        WHERE coilId = 290491\n",
    "        LIMIT 10\n",
    "        \"\"\"\n",
    "seg = 0\n",
    "for row in cursor.execute(query2):\n",
    "        print (f\"length-coordinate for segment {seg} = {row[1]}\")\n",
    "        seg = seg + 1"
   ]
  },
  {
   "cell_type": "code",
   "execution_count": 41,
   "metadata": {},
   "outputs": [
    {
     "name": "stdout",
     "output_type": "stream",
     "text": [
      "coilId: 283801\n",
      "coilId: 283798\n",
      "coilId: 283800\n",
      "coilId: 283806\n",
      "coilId: 283804\n",
      "coilId: 283802\n",
      "coilId: 283818\n",
      "coilId: 283816\n",
      "coilId: 283820\n",
      "coilId: 283809\n",
      "coilId: 283807\n",
      "coilId: 283803\n",
      "coilId: 283805\n",
      "coilId: 283819\n",
      "coilId: 283817\n",
      "coilId: 283815\n",
      "coilId: 283813\n",
      "coilId: 283811\n",
      "coilId: 283821\n",
      "coilId: 283823\n"
     ]
    }
   ],
   "source": [
    "query3 = \"\"\" \n",
    "        SELECT distinct coilId\n",
    "        FROM B5_table\n",
    "        LIMIT 20\n",
    "        \"\"\"\n",
    "\n",
    "for item in cursor.execute(query3):\n",
    "        print(f\"coilId: {item[0]}\")"
   ]
  },
  {
   "cell_type": "code",
   "execution_count": 42,
   "metadata": {},
   "outputs": [
    {
     "name": "stdout",
     "output_type": "stream",
     "text": [
      "total number of coils in table B3 is 25131\n"
     ]
    }
   ],
   "source": [
    "query4 = \"\"\" \n",
    "        SELECT count (distinct coilId)\n",
    "        FROM B3_table\n",
    "        \"\"\"\n",
    "\n",
    "cursor.execute(query4)\n",
    "total = cursor.fetchone()[0]\n",
    "\n",
    "print(f\"total number of coils in table B3 is {total}\")"
   ]
  },
  {
   "cell_type": "code",
   "execution_count": 28,
   "metadata": {},
   "outputs": [
    {
     "data": {
      "text/plain": [
       "'KN41'"
      ]
     },
     "execution_count": 28,
     "metadata": {},
     "output_type": "execute_result"
    }
   ],
   "source": [
    "query5 = \"\"\" \n",
    "        SELECT analyse\n",
    "        FROM CoilDataInput\n",
    "        WHERE coilId = 283802\n",
    "        \"\"\"\n",
    "\n",
    "cursor.execute(query5)\n",
    "cursor.fetchone()[0]"
   ]
  },
  {
   "cell_type": "markdown",
   "metadata": {},
   "source": [
    "## Join from another Table"
   ]
  },
  {
   "cell_type": "code",
   "execution_count": 36,
   "metadata": {},
   "outputs": [
    {
     "data": {
      "text/plain": [
       "[(283798, 11509),\n",
       " (283800, 10785),\n",
       " (283801, 11395),\n",
       " (283802, 11446),\n",
       " (283803, 11304),\n",
       " (283804, 10785),\n",
       " (283805, 10836),\n",
       " (283806, 12389),\n",
       " (283807, 12405),\n",
       " (283808, 13040)]"
      ]
     },
     "execution_count": 36,
     "metadata": {},
     "output_type": "execute_result"
    }
   ],
   "source": [
    "query6 = \"\"\" \n",
    "        SELECT B4_Table.CoilId, CoilDataInput.Hardness_1\n",
    "        FROM B4_Table\n",
    "        JOIN CoilDataInput on B4_table.coilId = CoilDataInput.coilId\n",
    "        GROUP BY B4_Table.CoilId\n",
    "        LIMIT 10\n",
    "        \"\"\"\n",
    "\n",
    "cursor.execute(query6)\n",
    "cursor.fetchall()"
   ]
  }
 ],
 "metadata": {
  "kernelspec": {
   "display_name": "Python 3.10.7 ('coil_project': venv)",
   "language": "python",
   "name": "python3"
  },
  "language_info": {
   "codemirror_mode": {
    "name": "ipython",
    "version": 3
   },
   "file_extension": ".py",
   "mimetype": "text/x-python",
   "name": "python",
   "nbconvert_exporter": "python",
   "pygments_lexer": "ipython3",
   "version": "3.10.7"
  },
  "orig_nbformat": 4,
  "vscode": {
   "interpreter": {
    "hash": "3b2a163c1795f0fa07135c6b48fe9f21e84bb9c4578023f01a4afd577028c343"
   }
  }
 },
 "nbformat": 4,
 "nbformat_minor": 2
}
