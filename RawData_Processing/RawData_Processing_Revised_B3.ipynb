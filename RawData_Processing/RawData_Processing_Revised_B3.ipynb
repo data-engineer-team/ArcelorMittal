{
 "cells": [
  {
   "cell_type": "markdown",
   "metadata": {},
   "source": [
    "## Import Libraries"
   ]
  },
  {
   "cell_type": "code",
   "execution_count": 1,
   "metadata": {},
   "outputs": [],
   "source": [
    "import pandas as pd\n",
    "import numpy as np"
   ]
  },
  {
   "cell_type": "markdown",
   "metadata": {},
   "source": [
    "## Load Raw Dataset"
   ]
  },
  {
   "cell_type": "code",
   "execution_count": 2,
   "metadata": {},
   "outputs": [],
   "source": [
    "df_raw = pd.read_table(\"RowData/dumpRawDataB3_B4.txt\", delimiter=\",\")"
   ]
  },
  {
   "cell_type": "markdown",
   "metadata": {},
   "source": [
    "## Process Raw Dataset"
   ]
  },
  {
   "cell_type": "code",
   "execution_count": 3,
   "metadata": {},
   "outputs": [],
   "source": [
    "def process_length(df_raw):\n",
    "    \n",
    "    ### Fill in NA / NaN values in 'B3_Abs_Plaus_Time' column\n",
    "    df_raw['B3_Abs_Plaus_Time'] = df_raw['B3_Abs_Plaus_Time'].fillna(0.0)\n",
    "\n",
    "    ### Build list for calculating 'B3_length_coordinate' column values\n",
    "    B3_length_base = [(x, y, z) for x, y, z in zip(df_raw['_FileId'], df_raw['Snelheid_EW'], df_raw['B3_Abs_Plaus_Time'])]\n",
    "\n",
    "    ### Loop through 'B3_length_base' list to calculate 'B3_length_coordinate' values\n",
    "    length_list = []\n",
    "    prev_length = 0.0\n",
    "    curr_speed = 0.0\n",
    "    curr_file = 0\n",
    "    counter = 0\n",
    "    for item in B3_length_base:\n",
    "        if item[0] == curr_file:   ### Check to see if '_FileId' has not changed\n",
    "            if item[2] == 1.0:   ### Check to see if 'B3_Abs_Plaus_Time' is equal to 1\n",
    "                if counter > 1:   ### Check to see if this is 3rd entry of 'B3_Abs_Plaus_Time' equal to 1\n",
    "                    curr_speed = item[1]   ### Assign current speed value\n",
    "                    length = prev_length + ((curr_speed * 0.04) * 0.001)   ### Calculate 'B3_length_coordinate' value\n",
    "                    length_list.append(length)   ### Append to 'length_list' list\n",
    "                    prev_length = length   ### Assign previous length value\n",
    "                else:\n",
    "                    length_list.append(0)\n",
    "                    counter = counter + 1\n",
    "            else:\n",
    "                length_list.append(0)\n",
    "        else:\n",
    "            curr_file = item[0]   ### Assign new '_FileId' as current file\n",
    "            prev_length = 0.0   ### Reset previous length value\n",
    "            counter = 0   ### Reset counter\n",
    "            if item[2] == 1.0:\n",
    "                if counter > 1:\n",
    "                    curr_speed = item[1]\n",
    "                    length = prev_length + ((curr_speed * 0.04) * 0.001)\n",
    "                    length_list.append(length)\n",
    "                    prev_length = length          \n",
    "                else:\n",
    "                    length_list.append(0)\n",
    "                    counter = counter + 1\n",
    "            else:\n",
    "                length_list.append(0)\n",
    "\n",
    "    ### Add 'length_list' list as 'B3_length_coordinate' column\n",
    "    df_raw['B3_Length_Coordinate'] = length_list\n",
    "\n",
    "    ### Return processed dataframe\n",
    "    return df_raw"
   ]
  },
  {
   "cell_type": "code",
   "execution_count": 4,
   "metadata": {},
   "outputs": [],
   "source": [
    "def process_B3(df_length):\n",
    "\n",
    "    ### Add and calculate 'B3' column from 'B3_Time_Based' column\n",
    "    df_length['B3'] = [x * 0.1 for x in df_length['B3_Time_Based']]\n",
    "\n",
    "    ### Fill-in NA / NaN values in 'B3' column\n",
    "    df_length['B3'] = df_length['B3'].fillna(0.0)\n",
    "\n",
    "    ### Return processed dataframe\n",
    "    return df_length"
   ]
  },
  {
   "cell_type": "code",
   "execution_count": 5,
   "metadata": {},
   "outputs": [],
   "source": [
    "df_length = process_length(df_raw)\n",
    "df_processed = process_B3(df_length)"
   ]
  },
  {
   "cell_type": "markdown",
   "metadata": {},
   "source": [
    "## Drop columns and save processed dataset to CSV"
   ]
  },
  {
   "cell_type": "code",
   "execution_count": null,
   "metadata": {},
   "outputs": [],
   "source": [
    "df_processed.drop(df_processed.columns[1:7], inplace=True, axis=1)\n",
    "df_processed.to_csv(\"RowData/B3_processed.csv\", index=True, header=True)"
   ]
  }
 ],
 "metadata": {
  "kernelspec": {
   "display_name": "Python 3.9.12 ('base')",
   "language": "python",
   "name": "python3"
  },
  "language_info": {
   "codemirror_mode": {
    "name": "ipython",
    "version": 3
   },
   "file_extension": ".py",
   "mimetype": "text/x-python",
   "name": "python",
   "nbconvert_exporter": "python",
   "pygments_lexer": "ipython3",
   "version": "3.9.12"
  },
  "orig_nbformat": 4,
  "vscode": {
   "interpreter": {
    "hash": "4c5fecb72096018fff2bef66cc69bd0e3a5732631898296c325d9ee69525bccd"
   }
  }
 },
 "nbformat": 4,
 "nbformat_minor": 2
}
