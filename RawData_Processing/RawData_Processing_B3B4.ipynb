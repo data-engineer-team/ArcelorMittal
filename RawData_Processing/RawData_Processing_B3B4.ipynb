{
 "cells": [
  {
   "cell_type": "markdown",
   "metadata": {},
   "source": [
    "### Import Libraries"
   ]
  },
  {
   "cell_type": "code",
   "execution_count": 1,
   "metadata": {},
   "outputs": [],
   "source": [
    "import pandas as pd\n",
    "import numpy as np"
   ]
  },
  {
   "cell_type": "markdown",
   "metadata": {},
   "source": [
    "### Load CSV file"
   ]
  },
  {
   "cell_type": "code",
   "execution_count": 2,
   "metadata": {},
   "outputs": [
    {
     "data": {
      "text/plain": [
       "(41546621, 7)"
      ]
     },
     "execution_count": 2,
     "metadata": {},
     "output_type": "execute_result"
    }
   ],
   "source": [
    "df = pd.read_csv('..\\..\\RawData\\B3_B4.csv')"
   ]
  },
  {
   "cell_type": "markdown",
   "metadata": {},
   "source": [
    "### Process CSV file"
   ]
  },
  {
   "cell_type": "code",
   "execution_count": 3,
   "metadata": {},
   "outputs": [],
   "source": [
    "def process_file(df):\n",
    "\n",
    "    ###Add and calculate 'B3' column based off 'B3_Time_Based' column\n",
    "\n",
    "    df['B3'] = [x * 0.1 for x in df['B3_Time_Based']]\n",
    "    df['B3'] = df['B3'].fillna(0.0)\n",
    "\n",
    "    ###Add and calculate 'B4' column based off 'B4_Time_Based' column\n",
    "\n",
    "    df['B4'] = [y * 0.1 for y in df['B4_Time_Based']]\n",
    "    df['B4'] = df['B4'].fillna(0.0)\n",
    "\n",
    "    ###Create list from '_SegmentNr' & 'Snelheid_EW' column\n",
    "\n",
    "    len_base = [(x, y) for x, y in zip(df['_SegmentNr'], df['Snelheid_EW'])]\n",
    "\n",
    "    ###Calculate 'length_coordinate' values based off 'len_base' list\n",
    "\n",
    "    len_list = []\n",
    "    prev_sh = 0.0\n",
    "    prev_length = 0.0\n",
    "    for item in len_base:\n",
    "        seg = item[0]\n",
    "        sh = item[1]\n",
    "        if seg == 0:\n",
    "            length = 0\n",
    "        else:\n",
    "            length = ((prev_sh * 0.04) * 0.001) + prev_length\n",
    "        len_list.append(length)\n",
    "        prev_sh = sh\n",
    "        prev_length = length\n",
    "\n",
    "    ###Add 'length_coordinate' column from 'len_list' list\n",
    "\n",
    "    df['lengthCoordinate'] = len_list\n",
    "\n",
    "    ###Remove unecessary columns\n",
    "\n",
    "    df.drop(df.columns[1:7], inplace=True, axis=1)\n",
    "\n",
    "    ###Return processed file\n",
    "\n",
    "    return df"
   ]
  },
  {
   "cell_type": "code",
   "execution_count": null,
   "metadata": {},
   "outputs": [],
   "source": [
    "df_processed = process_file(df)"
   ]
  },
  {
   "cell_type": "markdown",
   "metadata": {},
   "source": [
    "### Save processed file to new CSV"
   ]
  },
  {
   "cell_type": "code",
   "execution_count": 13,
   "metadata": {},
   "outputs": [],
   "source": [
    "df_processed.to_csv('..\\..\\RawData\\B3_B4_processed.csv', index=True, header=True)"
   ]
  }
 ],
 "metadata": {
  "kernelspec": {
   "display_name": "Python 3.10.7 ('coil_project': venv)",
   "language": "python",
   "name": "python3"
  },
  "language_info": {
   "codemirror_mode": {
    "name": "ipython",
    "version": 3
   },
   "file_extension": ".py",
   "mimetype": "text/x-python",
   "name": "python",
   "nbconvert_exporter": "python",
   "pygments_lexer": "ipython3",
   "version": "3.10.7"
  },
  "orig_nbformat": 4,
  "vscode": {
   "interpreter": {
    "hash": "3b2a163c1795f0fa07135c6b48fe9f21e84bb9c4578023f01a4afd577028c343"
   }
  }
 },
 "nbformat": 4,
 "nbformat_minor": 2
}
