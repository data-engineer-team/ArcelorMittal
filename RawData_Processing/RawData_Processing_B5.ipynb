{
 "cells": [
  {
   "cell_type": "code",
   "execution_count": 2,
   "metadata": {},
   "outputs": [],
   "source": [
    "###Import Libraries\n",
    "\n",
    "import pandas as pd\n",
    "import numpy as np"
   ]
  },
  {
   "cell_type": "code",
   "execution_count": 3,
   "metadata": {},
   "outputs": [
    {
     "data": {
      "text/plain": [
       "(45704740, 5)"
      ]
     },
     "execution_count": 3,
     "metadata": {},
     "output_type": "execute_result"
    }
   ],
   "source": [
    "###Load CSV file\n",
    "\n",
    "df = pd.read_csv('..\\..\\RawData\\B5.csv')\n",
    "\n",
    "df.shape"
   ]
  },
  {
   "cell_type": "code",
   "execution_count": 4,
   "metadata": {},
   "outputs": [],
   "source": [
    "###Add 'B5' column based off 'B5_Time_Based' column\n",
    "\n",
    "df['B5'] = [x * 0.1 for x in df['B5_Time_Based']]\n",
    "df['B5'] = df['B5'].fillna(0.0)"
   ]
  },
  {
   "cell_type": "code",
   "execution_count": 5,
   "metadata": {},
   "outputs": [],
   "source": [
    "###Create list of '_SegmentNr' & 'Snelheid_HA' columns\n",
    "\n",
    "len_base = [(x, y) for x, y in zip(df['_SegmentNr'], df['Snelheid_HA'])]"
   ]
  },
  {
   "cell_type": "code",
   "execution_count": 6,
   "metadata": {},
   "outputs": [],
   "source": [
    "###Calculate 'length_coordinate' values based off '_SegmentNr' & 'Snelheid_HA' columns\n",
    "\n",
    "len_list = []\n",
    "prev_sh = 0.0\n",
    "prev_length = 0.0\n",
    "for item in len_base:\n",
    "    seg = item[0]\n",
    "    sh = item[1]\n",
    "    if seg == 0:\n",
    "        length = 0\n",
    "    else:\n",
    "        length = ((prev_sh * 0.04) * 0.001) + prev_length\n",
    "    len_list.append(length)\n",
    "    prev_sh = sh\n",
    "    prev_length = length"
   ]
  },
  {
   "cell_type": "code",
   "execution_count": 7,
   "metadata": {},
   "outputs": [],
   "source": [
    "###Add 'length_coordinate' column from list generated in above cell\n",
    "\n",
    "df['lengthCoordinate'] = len_list"
   ]
  },
  {
   "cell_type": "code",
   "execution_count": 9,
   "metadata": {},
   "outputs": [],
   "source": [
    "###Drop unnecessary columns\n",
    "\n",
    "df.drop(df.columns[1:5], inplace=True, axis=1)"
   ]
  },
  {
   "cell_type": "code",
   "execution_count": 16,
   "metadata": {},
   "outputs": [],
   "source": [
    "###Save processed data to CSV file \n",
    "\n",
    "df.to_csv('..\\..\\RawData\\B5_processed.csv', index=True, header=True)"
   ]
  }
 ],
 "metadata": {
  "kernelspec": {
   "display_name": "Python 3.10.7 ('coil_project': venv)",
   "language": "python",
   "name": "python3"
  },
  "language_info": {
   "codemirror_mode": {
    "name": "ipython",
    "version": 3
   },
   "file_extension": ".py",
   "mimetype": "text/x-python",
   "name": "python",
   "nbconvert_exporter": "python",
   "pygments_lexer": "ipython3",
   "version": "3.10.7"
  },
  "orig_nbformat": 4,
  "vscode": {
   "interpreter": {
    "hash": "3b2a163c1795f0fa07135c6b48fe9f21e84bb9c4578023f01a4afd577028c343"
   }
  }
 },
 "nbformat": 4,
 "nbformat_minor": 2
}
